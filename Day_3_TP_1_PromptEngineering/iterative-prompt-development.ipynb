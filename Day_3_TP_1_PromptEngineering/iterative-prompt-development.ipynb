{
 "cells": [
  {
   "cell_type": "markdown",
   "id": "b97ddf3b-d921-4169-9d82-b0ee95e9eccd",
   "metadata": {},
   "source": [
    "# Iterative Prompt Development\n",
    "In this notebook, you'll iteratively analyze and refine your prompts to generate marketing copy from a product fact sheet.\n",
    "\n",
    "## Setup\n",
    "\n",
    "Install openai library"
   ]
  },
  {
   "cell_type": "code",
   "execution_count": 34,
   "id": "360efb9e",
   "metadata": {},
   "outputs": [
    {
     "name": "stdout",
     "output_type": "stream",
     "text": [
      "Requirement already satisfied: openai in /Library/Frameworks/Python.framework/Versions/3.13/lib/python3.13/site-packages (1.73.0)\n",
      "Requirement already satisfied: anyio<5,>=3.5.0 in /Library/Frameworks/Python.framework/Versions/3.13/lib/python3.13/site-packages (from openai) (4.9.0)\n",
      "Requirement already satisfied: distro<2,>=1.7.0 in /Library/Frameworks/Python.framework/Versions/3.13/lib/python3.13/site-packages (from openai) (1.9.0)\n",
      "Requirement already satisfied: httpx<1,>=0.23.0 in /Library/Frameworks/Python.framework/Versions/3.13/lib/python3.13/site-packages (from openai) (0.28.1)\n",
      "Requirement already satisfied: jiter<1,>=0.4.0 in /Library/Frameworks/Python.framework/Versions/3.13/lib/python3.13/site-packages (from openai) (0.9.0)\n",
      "Requirement already satisfied: pydantic<3,>=1.9.0 in /Library/Frameworks/Python.framework/Versions/3.13/lib/python3.13/site-packages (from openai) (2.10.6)\n",
      "Requirement already satisfied: sniffio in /Library/Frameworks/Python.framework/Versions/3.13/lib/python3.13/site-packages (from openai) (1.3.1)\n",
      "Requirement already satisfied: tqdm>4 in /Library/Frameworks/Python.framework/Versions/3.13/lib/python3.13/site-packages (from openai) (4.67.1)\n",
      "Requirement already satisfied: typing-extensions<5,>=4.11 in /Library/Frameworks/Python.framework/Versions/3.13/lib/python3.13/site-packages (from openai) (4.12.2)\n",
      "Requirement already satisfied: idna>=2.8 in /Library/Frameworks/Python.framework/Versions/3.13/lib/python3.13/site-packages (from anyio<5,>=3.5.0->openai) (3.10)\n",
      "Requirement already satisfied: certifi in /Library/Frameworks/Python.framework/Versions/3.13/lib/python3.13/site-packages (from httpx<1,>=0.23.0->openai) (2025.1.31)\n",
      "Requirement already satisfied: httpcore==1.* in /Library/Frameworks/Python.framework/Versions/3.13/lib/python3.13/site-packages (from httpx<1,>=0.23.0->openai) (1.0.8)\n",
      "Requirement already satisfied: h11<0.15,>=0.13 in /Library/Frameworks/Python.framework/Versions/3.13/lib/python3.13/site-packages (from httpcore==1.*->httpx<1,>=0.23.0->openai) (0.14.0)\n",
      "Requirement already satisfied: annotated-types>=0.6.0 in /Library/Frameworks/Python.framework/Versions/3.13/lib/python3.13/site-packages (from pydantic<3,>=1.9.0->openai) (0.7.0)\n",
      "Requirement already satisfied: pydantic-core==2.27.2 in /Library/Frameworks/Python.framework/Versions/3.13/lib/python3.13/site-packages (from pydantic<3,>=1.9.0->openai) (2.27.2)\n",
      "Note: you may need to restart the kernel to use updated packages.\n"
     ]
    }
   ],
   "source": [
    "%pip install openai"
   ]
  },
  {
   "cell_type": "code",
   "execution_count": 35,
   "id": "2800e646",
   "metadata": {
    "height": 132,
    "tags": []
   },
   "outputs": [],
   "source": [
    "import openai\n",
    "import os\n",
    "import config\n",
    "\n",
    "# Set your OpenAI API key\n",
    "os.environ[\"OPENAI_API_KEY\"] = config.OPENAI_API_KEY\n",
    "\n",
    "openai.api_key  = os.getenv('OPENAI_API_KEY')"
   ]
  },
  {
   "cell_type": "code",
   "execution_count": 36,
   "id": "21350c83",
   "metadata": {},
   "outputs": [],
   "source": [
    "client = openai.OpenAI()\n",
    "\n",
    "def get_completion(prompt, model=\"gpt-3.5-turbo\"):\n",
    "    messages = [{\"role\": \"user\", \"content\": prompt}]\n",
    "    response = client.chat.completions.create(\n",
    "        model=model,\n",
    "        messages=messages,\n",
    "        temperature=0\n",
    "    )\n",
    "    return response.choices[0].message.content"
   ]
  },
  {
   "cell_type": "markdown",
   "id": "71d1a1df-03c3-4f38-af6d-3962362f3dcd",
   "metadata": {},
   "source": [
    "## Generate a marketing product description from a product fact sheet"
   ]
  },
  {
   "cell_type": "code",
   "execution_count": 37,
   "id": "5be90e47",
   "metadata": {
    "height": 693,
    "tags": []
   },
   "outputs": [],
   "source": [
    "fact_sheet_chair = \"\"\"\n",
    "OVERVIEW\n",
    "- Part of a beautiful family of mid-century inspired office furniture, \n",
    "including filing cabinets, desks, bookcases, meeting tables, and more.\n",
    "- Several options of shell color and base finishes.\n",
    "- Available with plastic back and front upholstery (SWC-100) \n",
    "or full upholstery (SWC-110) in 10 fabric and 6 leather options.\n",
    "- Base finish options are: stainless steel, matte black, \n",
    "gloss white, or chrome.\n",
    "- Chair is available with or without armrests.\n",
    "- Suitable for home or business settings.\n",
    "- Qualified for contract use.\n",
    "\n",
    "CONSTRUCTION\n",
    "- 5-wheel plastic coated aluminum base.\n",
    "- Pneumatic chair adjust for easy raise/lower action.\n",
    "\n",
    "DIMENSIONS\n",
    "- WIDTH 53 CM | 20.87”\n",
    "- DEPTH 51 CM | 20.08”\n",
    "- HEIGHT 80 CM | 31.50”\n",
    "- SEAT HEIGHT 44 CM | 17.32”\n",
    "- SEAT DEPTH 41 CM | 16.14”\n",
    "\n",
    "OPTIONS\n",
    "- Soft or hard-floor caster options.\n",
    "- Two choices of seat foam densities: \n",
    " medium (1.8 lb/ft3) or high (2.8 lb/ft3)\n",
    "- Armless or 8 position PU armrests \n",
    "\n",
    "MATERIALS\n",
    "SHELL BASE GLIDER\n",
    "- Cast Aluminum with modified nylon PA6/PA66 coating.\n",
    "- Shell thickness: 10 mm.\n",
    "SEAT\n",
    "- HD36 foam\n",
    "\n",
    "COUNTRY OF ORIGIN\n",
    "- Italy\n",
    "\"\"\""
   ]
  },
  {
   "cell_type": "code",
   "execution_count": 38,
   "id": "4f656d0c",
   "metadata": {
    "height": 251,
    "tags": []
   },
   "outputs": [
    {
     "name": "stdout",
     "output_type": "stream",
     "text": [
      "Introducing our stylish and versatile mid-century inspired office chair, perfect\n",
      "for both home and business settings. This chair is part of a beautiful family of\n",
      "office furniture that includes filing cabinets, desks, bookcases, meeting\n",
      "tables, and more.  Customize your chair with several options of shell color and\n",
      "base finishes to match your decor. Choose between plastic back and front\n",
      "upholstery or full upholstery in a variety of fabric and leather options. The\n",
      "base finish options include stainless steel, matte black, gloss white, or\n",
      "chrome. You can also choose to have armrests or go for a sleek armless design.\n",
      "Constructed with a 5-wheel plastic coated aluminum base and featuring a\n",
      "pneumatic chair adjust for easy raise/lower action, this chair is both durable\n",
      "and functional. The dimensions of the chair are as follows: width 53 cm, depth\n",
      "51 cm, height 80 cm, seat height 44 cm, and seat depth 41 cm.  Personalize your\n",
      "chair even further with options like soft or hard-floor caster options, two\n",
      "choices of seat foam densities (medium or high), and armless or 8 position PU\n",
      "armrests.  Made with high-quality materials such as cast aluminum with modified\n",
      "nylon coating for the shell base glider and HD36 foam for the seat, this chair\n",
      "is built to last. Plus, it is proudly made in Italy.  Elevate your workspace\n",
      "with our stylish and functional mid-century inspired office chair. Add a touch\n",
      "of elegance to your office or home office with this versatile and customizable\n",
      "chair.\n"
     ]
    }
   ],
   "source": [
    "import textwrap\n",
    "\n",
    "prompt = f\"\"\"\n",
    "Your task is to help a marketing team create a \n",
    "description for a retail website of a product based \n",
    "on a technical fact sheet.\n",
    "\n",
    "Write a product description based on the information \n",
    "provided in the technical specifications delimited by \n",
    "triple backticks.\n",
    "\n",
    "Technical specifications: ```{fact_sheet_chair}```\n",
    "\"\"\"\n",
    "response = get_completion(prompt)\n",
    "# Wrap at X (e.g. 80) characters\n",
    "print(textwrap.fill(response, width=80))\n"
   ]
  },
  {
   "cell_type": "code",
   "execution_count": 39,
   "id": "965eac14",
   "metadata": {},
   "outputs": [],
   "source": [
    "# Check response length - number of words\n",
    "#CODE HERE\n",
    "# Check response length - number of characters\n",
    "#CODE HERE"
   ]
  },
  {
   "cell_type": "markdown",
   "id": "e1361d6f-6022-4b7a-8107-b2e2ff5efd32",
   "metadata": {},
   "source": [
    "## Issue 1: The text is too long \n",
    "- Limit the number of words/sentences/characters."
   ]
  },
  {
   "cell_type": "code",
   "execution_count": 40,
   "id": "f6129532",
   "metadata": {
    "height": 285,
    "tags": []
   },
   "outputs": [
    {
     "name": "stdout",
     "output_type": "stream",
     "text": [
      "Introducing our versatile and stylish mid-century office chair, available in a\n",
      "range of colors and finishes to suit any space. With adjustable height and\n",
      "comfortable seating options, this chair is perfect for both home and business\n",
      "use. Made with quality materials from Italy, it's a blend of form and function.\n"
     ]
    }
   ],
   "source": [
    "prompt = f\"\"\"\n",
    "Your task is to help a marketing team create a \n",
    "description for a retail website of a product based \n",
    "on a technical fact sheet.\n",
    "\n",
    "Write a product description based on the information \n",
    "provided in the technical specifications delimited by \n",
    "triple backticks.\n",
    "\n",
    "Use at most 50 words.\n",
    "\n",
    "Technical specifications: ```{fact_sheet_chair}```\n",
    "\"\"\"\n",
    "response = get_completion(prompt)\n",
    "# Wrap at X (e.g. 80) characters\n",
    "print(textwrap.fill(response, width=80))\n"
   ]
  },
  {
   "cell_type": "code",
   "execution_count": 41,
   "id": "17f658d0",
   "metadata": {
    "height": 30,
    "tags": []
   },
   "outputs": [
    {
     "name": "stdout",
     "output_type": "stream",
     "text": [
      "50\n",
      "311\n"
     ]
    }
   ],
   "source": [
    "# Check response length - number of words\n",
    "print(len(response.split()))\n",
    "# Check response length - number of characters\n",
    "print(len(response))"
   ]
  },
  {
   "cell_type": "markdown",
   "id": "a6de9c92-857c-4d1c-8fd1-192cf47c4763",
   "metadata": {},
   "source": [
    "## Issue 2. Text focuses on the wrong details\n",
    "- Ask it to focus on the aspects that are relevant to the intended audience."
   ]
  },
  {
   "cell_type": "code",
   "execution_count": 42,
   "id": "954a8a06",
   "metadata": {
    "height": 336,
    "tags": []
   },
   "outputs": [
    {
     "name": "stdout",
     "output_type": "stream",
     "text": [
      "Introducing our versatile and stylish office chair, part of a mid-century\n",
      "inspired furniture collection. Choose from a variety of shell colors and base\n",
      "finishes to suit your space. Constructed with a durable aluminum base and high-\n",
      "density foam seat for comfort. Made in Italy, perfect for home or business use.\n"
     ]
    }
   ],
   "source": [
    "prompt = f\"\"\"\n",
    "Your task is to help a marketing team create a \n",
    "description for a retail website of a product based \n",
    "on a technical fact sheet.\n",
    "\n",
    "Write a product description based on the information \n",
    "provided in the technical specifications delimited by \n",
    "triple backticks.\n",
    "\n",
    "The description is intended for furniture retailers, \n",
    "so should be technical in nature and focus on the \n",
    "materials the product is constructed from.\n",
    "\n",
    "Use at most 50 words.\n",
    "\n",
    "Technical specifications: ```{fact_sheet_chair}```\n",
    "\"\"\"\n",
    "response = get_completion(prompt)\n",
    "# Wrap at X (e.g. 80) characters\n",
    "print(textwrap.fill(response, width=80))"
   ]
  },
  {
   "cell_type": "code",
   "execution_count": 43,
   "id": "e9455d58",
   "metadata": {
    "height": 387,
    "tags": []
   },
   "outputs": [
    {
     "name": "stdout",
     "output_type": "stream",
     "text": [
      "Introducing our versatile and stylish office chair, part of a mid-century\n",
      "inspired furniture collection. Choose from a variety of shell colors and base\n",
      "finishes to suit your space. Constructed with a durable aluminum base and high-\n",
      "density foam seat for comfort. Perfect for home or business use.   Product IDs:\n",
      "SWC-100, SWC-110\n"
     ]
    }
   ],
   "source": [
    "prompt = f\"\"\"\n",
    "Your task is to help a marketing team create a \n",
    "description for a retail website of a product based \n",
    "on a technical fact sheet.\n",
    "\n",
    "Write a product description based on the information \n",
    "provided in the technical specifications delimited by \n",
    "triple backticks.\n",
    "\n",
    "The description is intended for furniture retailers, \n",
    "so should be technical in nature and focus on the \n",
    "materials the product is constructed from.\n",
    "\n",
    "At the end of the description, include every 7-character \n",
    "Product ID in the technical specification.\n",
    "\n",
    "Use at most 50 words.\n",
    "\n",
    "Technical specifications: ```{fact_sheet_chair}```\n",
    "\"\"\"\n",
    "response = get_completion(prompt)\n",
    "# Wrap at X (e.g. 80) characters\n",
    "print(textwrap.fill(response, width=80))"
   ]
  },
  {
   "cell_type": "markdown",
   "id": "5be496d5-54c9-443b-8116-0b3d3d9dc560",
   "metadata": {},
   "source": [
    "## Issue 3. Description needs a table of dimensions\n",
    "- Ask it to extract information and organize it in a table."
   ]
  },
  {
   "cell_type": "code",
   "execution_count": 44,
   "id": "0384f1e4",
   "metadata": {
    "height": 540,
    "tags": []
   },
   "outputs": [
    {
     "name": "stdout",
     "output_type": "stream",
     "text": [
      "<div>\n",
      "  <p>Introducing our latest addition to the mid-century inspired office furniture collection - the versatile and stylish office chair. This chair is designed to elevate any workspace, whether it be at home or in a business setting. With a range of shell colors and base finishes to choose from, you can customize this chair to suit your aesthetic preferences.</p>\n",
      "  \n",
      "  <p>The construction of this chair is top-notch, featuring a 5-wheel plastic coated aluminum base for stability and mobility. The pneumatic chair adjust allows for easy raise and lower action, ensuring maximum comfort throughout the day.</p>\n",
      "  \n",
      "  <p>Constructed with quality materials, the shell base glider is made of cast aluminum with a modified nylon PA6/PA66 coating, while the seat is filled with HD36 foam for ultimate comfort and durability. This chair is not only stylish but also built to last.</p>\n",
      "  \n",
      "  <p>Product ID: SWC-100</p>\n",
      "</div>\n",
      "\n",
      "<table>\n",
      "  <caption>Product Dimensions</caption>\n",
      "  <tr>\n",
      "    <td>WIDTH</td>\n",
      "    <td>20.87\"</td>\n",
      "  </tr>\n",
      "  <tr>\n",
      "    <td>DEPTH</td>\n",
      "    <td>20.08\"</td>\n",
      "  </tr>\n",
      "  <tr>\n",
      "    <td>HEIGHT</td>\n",
      "    <td>31.50\"</td>\n",
      "  </tr>\n",
      "  <tr>\n",
      "    <td>SEAT HEIGHT</td>\n",
      "    <td>17.32\"</td>\n",
      "  </tr>\n",
      "  <tr>\n",
      "    <td>SEAT DEPTH</td>\n",
      "    <td>16.14\"</td>\n",
      "  </tr>\n",
      "</table>\n"
     ]
    }
   ],
   "source": [
    "prompt = f\"\"\"\n",
    "Your task is to help a marketing team create a \n",
    "description for a retail website of a product based \n",
    "on a technical fact sheet.\n",
    "\n",
    "Write a product description based on the information \n",
    "provided in the technical specifications delimited by \n",
    "triple backticks.\n",
    "\n",
    "The description is intended for furniture retailers, \n",
    "so should be technical in nature and focus on the \n",
    "materials the product is constructed from.\n",
    "\n",
    "At the end of the description, include every 7-character \n",
    "Product ID in the technical specification.\n",
    "\n",
    "After the description, include a table that gives the \n",
    "product's dimensions. The table should have two columns.\n",
    "In the first column include the name of the dimension. \n",
    "In the second column include the measurements in inches only.\n",
    "\n",
    "Give the table the title 'Product Dimensions'.\n",
    "\n",
    "Format everything as HTML that can be used in a website. \n",
    "Place the description in a <div> element.\n",
    "\n",
    "Technical specifications: ```{fact_sheet_chair}```\n",
    "\"\"\"\n",
    "\n",
    "response = get_completion(prompt)\n",
    "print(response)"
   ]
  },
  {
   "cell_type": "markdown",
   "id": "d681db67-6d59-40c1-a36b-4d76729a690d",
   "metadata": {},
   "source": [
    "## Load Python libraries to view HTML"
   ]
  },
  {
   "cell_type": "code",
   "execution_count": 45,
   "id": "73ff0052",
   "metadata": {
    "height": 30,
    "tags": []
   },
   "outputs": [],
   "source": [
    "from IPython.display import display, HTML"
   ]
  },
  {
   "cell_type": "code",
   "execution_count": 46,
   "id": "3465ffce",
   "metadata": {
    "height": 30,
    "tags": []
   },
   "outputs": [
    {
     "data": {
      "text/html": [
       "<div>\n",
       "  <p>Introducing our latest addition to the mid-century inspired office furniture collection - the versatile and stylish office chair. This chair is designed to elevate any workspace, whether it be at home or in a business setting. With a range of shell colors and base finishes to choose from, you can customize this chair to suit your aesthetic preferences.</p>\n",
       "  \n",
       "  <p>The construction of this chair is top-notch, featuring a 5-wheel plastic coated aluminum base for stability and mobility. The pneumatic chair adjust allows for easy raise and lower action, ensuring maximum comfort throughout the day.</p>\n",
       "  \n",
       "  <p>Constructed with quality materials, the shell base glider is made of cast aluminum with a modified nylon PA6/PA66 coating, while the seat is filled with HD36 foam for ultimate comfort and durability. This chair is not only stylish but also built to last.</p>\n",
       "  \n",
       "  <p>Product ID: SWC-100</p>\n",
       "</div>\n",
       "\n",
       "<table>\n",
       "  <caption>Product Dimensions</caption>\n",
       "  <tr>\n",
       "    <td>WIDTH</td>\n",
       "    <td>20.87\"</td>\n",
       "  </tr>\n",
       "  <tr>\n",
       "    <td>DEPTH</td>\n",
       "    <td>20.08\"</td>\n",
       "  </tr>\n",
       "  <tr>\n",
       "    <td>HEIGHT</td>\n",
       "    <td>31.50\"</td>\n",
       "  </tr>\n",
       "  <tr>\n",
       "    <td>SEAT HEIGHT</td>\n",
       "    <td>17.32\"</td>\n",
       "  </tr>\n",
       "  <tr>\n",
       "    <td>SEAT DEPTH</td>\n",
       "    <td>16.14\"</td>\n",
       "  </tr>\n",
       "</table>"
      ],
      "text/plain": [
       "<IPython.core.display.HTML object>"
      ]
     },
     "metadata": {},
     "output_type": "display_data"
    }
   ],
   "source": [
    "display(HTML(response))"
   ]
  },
  {
   "cell_type": "markdown",
   "id": "8ed02a02-9e12-4f63-97bd-f52064b18666",
   "metadata": {},
   "source": [
    "## Try experimenting on your own!"
   ]
  },
  {
   "cell_type": "code",
   "execution_count": null,
   "id": "dbe1f850",
   "metadata": {
    "height": 30
   },
   "outputs": [],
   "source": []
  },
  {
   "cell_type": "markdown",
   "id": "6909fb55",
   "metadata": {},
   "source": [
    "# 🔗 References:\n",
    "- [DeepLearning.AI - ChatGPT Prompt Engineering for Developers Mini-course](https://www.coursera.org/projects/chatgpt-prompt-engineering-for-developers-project)"
   ]
  }
 ],
 "metadata": {
  "kernelspec": {
   "display_name": "Python 3",
   "language": "python",
   "name": "python3"
  },
  "language_info": {
   "codemirror_mode": {
    "name": "ipython",
    "version": 3
   },
   "file_extension": ".py",
   "mimetype": "text/x-python",
   "name": "python",
   "nbconvert_exporter": "python",
   "pygments_lexer": "ipython3",
   "version": "3.13.2"
  }
 },
 "nbformat": 4,
 "nbformat_minor": 5
}
