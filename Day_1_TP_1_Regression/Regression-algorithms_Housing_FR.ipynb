{
 "cells": [
  {
   "attachments": {},
   "cell_type": "markdown",
   "metadata": {},
   "source": [
    "# 📈 Régression linéaire - Prédiction du prix des maisons\n",
    "\n",
    "> La régression linéaire est l'algorithme le plus simple en apprentissage automatique, il peut être entraîné de différentes manières. Dans ce cahier, nous allons couvrir les algorithmes linéaires suivants :\n",
    "> 1. Régression linéaire\n",
    "> 2. Régresseur de forêt aléatoire (Random Forest Regressor)\n",
    "---\n",
    "# 💾 Données\n",
    "\n",
    "> Nous allons utiliser l'ensemble de données `USA_Housing`. Étant donné que le prix des maisons est une variable continue, il s'agit d'un problème de régression. Les données contiennent les colonnes suivantes :\n",
    "> * '`Avg. Area Income`': Le revenu moyen des habitants de la ville où se trouve la maison.\n",
    "> * '`Avg. Area House Age`': Âge moyen des maisons dans la même ville.\n",
    "> * '`Avg. Area Number of Rooms`': Nombre moyen de pièces pour les maisons dans la même ville.\n",
    "> * '`Avg. Area Number of Bedrooms`': Nombre moyen de chambres pour les maisons dans la même ville.\n",
    "> * '`Area Population`': La population de la ville où se trouve la maison.\n",
    "> * '`Price`': Prix auquel la maison a été vendue.\n",
    "> * '`Address`': Adresse de la maison.\n"
   ]
  },
  {
   "cell_type": "markdown",
   "metadata": {},
   "source": [
    "# Installation des Librairies"
   ]
  },
  {
   "cell_type": "code",
   "execution_count": null,
   "metadata": {
    "_kg_hide-input": true,
    "_kg_hide-output": true,
    "execution": {
     "iopub.execute_input": "2023-01-29T20:00:48.716086Z",
     "iopub.status.busy": "2023-01-29T20:00:48.715583Z",
     "iopub.status.idle": "2023-01-29T20:01:02.269212Z",
     "shell.execute_reply": "2023-01-29T20:01:02.26806Z",
     "shell.execute_reply.started": "2023-01-29T20:00:48.715988Z"
    },
    "trusted": true
   },
   "outputs": [],
   "source": [
    "%pip install -q hvplot\n",
    "%pip install -q matplotlib\n",
    "%pip install -q seaborn\n",
    "%pip install -q scikit-learn"
   ]
  },
  {
   "cell_type": "markdown",
   "metadata": {},
   "source": [
    "# 📤 Import des Libraries"
   ]
  },
  {
   "cell_type": "code",
   "execution_count": null,
   "metadata": {
    "execution": {
     "iopub.execute_input": "2023-01-29T20:01:21.585578Z",
     "iopub.status.busy": "2023-01-29T20:01:21.584857Z",
     "iopub.status.idle": "2023-01-29T20:01:25.748093Z",
     "shell.execute_reply": "2023-01-29T20:01:25.747187Z",
     "shell.execute_reply.started": "2023-01-29T20:01:21.585534Z"
    },
    "trusted": true
   },
   "outputs": [],
   "source": [
    "import pandas as pd # Analyse et manipulation de données (utilisation des Panda DataFrame) https://pandas.pydata.org/docs/user_guide/index.html and/or https://sparkbyexamples.com/python-pandas-tutorial-for-beginners/ \n",
    "import numpy as np\n",
    "import matplotlib.pyplot as plt\n",
    "import seaborn as sns # Visualization de données\n",
    "import hvplot.pandas #Plots interactifs https://hvplot.holoviz.org/\n",
    "\n",
    "import warnings\n",
    "warnings.filterwarnings('ignore')\n",
    "\n",
    "%matplotlib inline"
   ]
  },
  {
   "cell_type": "markdown",
   "metadata": {},
   "source": [
    "## 💾 Consultation des données"
   ]
  },
  {
   "cell_type": "markdown",
   "metadata": {},
   "source": [
    "Allons récupérer les données à partir du fichier CSV `'USA_housing.csv'`"
   ]
  },
  {
   "cell_type": "code",
   "execution_count": null,
   "metadata": {
    "execution": {
     "iopub.execute_input": "2023-01-29T20:01:32.655221Z",
     "iopub.status.busy": "2023-01-29T20:01:32.654544Z",
     "iopub.status.idle": "2023-01-29T20:01:32.711588Z",
     "shell.execute_reply": "2023-01-29T20:01:32.710488Z",
     "shell.execute_reply.started": "2023-01-29T20:01:32.655185Z"
    },
    "trusted": true
   },
   "outputs": [],
   "source": [
    "USAhousing = pd.read_csv('USA_Housing.csv')\n",
    "type(USAhousing)"
   ]
  },
  {
   "cell_type": "markdown",
   "metadata": {},
   "source": [
    "**Instruction:** Affichez les 5 premières lignes\n",
    "<details>\n",
    "<summary>Aide</summary>\n",
    "Utilisez la méthode <a href=\"https://pandas.pydata.org/docs/reference/api/pandas.DataFrame.head.html\">head</a> des pandas.DataFrame.\n",
    "</details>"
   ]
  },
  {
   "cell_type": "code",
   "execution_count": null,
   "metadata": {},
   "outputs": [],
   "source": [
    "## Code ici\n"
   ]
  },
  {
   "cell_type": "markdown",
   "metadata": {},
   "source": [
    "Vérifions les informations suivantes: \n",
    "- Nombre de lignes et de colonnes\n",
    "- Type des colonnes\n",
    "- Nombre de valeurs manquantes par colonne"
   ]
  },
  {
   "cell_type": "code",
   "execution_count": null,
   "metadata": {
    "execution": {
     "iopub.execute_input": "2023-01-29T20:01:32.957321Z",
     "iopub.status.busy": "2023-01-29T20:01:32.956877Z",
     "iopub.status.idle": "2023-01-29T20:01:32.98475Z",
     "shell.execute_reply": "2023-01-29T20:01:32.983586Z",
     "shell.execute_reply.started": "2023-01-29T20:01:32.957283Z"
    },
    "trusted": true
   },
   "outputs": [],
   "source": [
    "USAhousing.info()"
   ]
  },
  {
   "cell_type": "markdown",
   "metadata": {},
   "source": [
    "**Instruction:** Calculer les statistiques suivantes pour chaque colonne:\n",
    "- moyenne, écart type\n",
    "- valeur minimale, maximale\n",
    "- quartiles\n",
    "\n",
    "<details>\n",
    "<summary>Aide</summary>\n",
    "Utilisez la méthode <a href=\"https://pandas.pydata.org/docs/reference/api/pandas.DataFrame.describe.html\">describe</a> des pandas.DataFrame.\n",
    "</details>"
   ]
  },
  {
   "cell_type": "code",
   "execution_count": null,
   "metadata": {
    "execution": {
     "iopub.execute_input": "2023-01-29T20:01:33.971823Z",
     "iopub.status.busy": "2023-01-29T20:01:33.970908Z",
     "iopub.status.idle": "2023-01-29T20:01:34.007853Z",
     "shell.execute_reply": "2023-01-29T20:01:34.006682Z",
     "shell.execute_reply.started": "2023-01-29T20:01:33.971776Z"
    },
    "trusted": true
   },
   "outputs": [],
   "source": [
    "# Code ici\n"
   ]
  },
  {
   "cell_type": "markdown",
   "metadata": {},
   "source": [
    "# 📊 Analyse exploratoire des données (AED)\n",
    "\n",
    "Créons quelques graphiques simples pour examiner les données !"
   ]
  },
  {
   "cell_type": "markdown",
   "metadata": {},
   "source": [
    "**Instruction:** Visualisez la distribution des prix des maisons à l'aide d'un histogramme\n",
    "<details>\n",
    "<summary>Aide</summary>\n",
    "Vous pouvez utiliser la méthode  <a href=\"https://hvplot.holoviz.org/reference/tabular/hist.html\">hvplot.hist</a> de la librairie hvplot.pandas\n",
    "</details>"
   ]
  },
  {
   "cell_type": "code",
   "execution_count": null,
   "metadata": {},
   "outputs": [],
   "source": [
    "# Code ici\n"
   ]
  },
  {
   "cell_type": "markdown",
   "metadata": {},
   "source": [
    "Et maintenant visualisons la façon dont les prix des maisons évoluent en fonction de l'age moyen des maisons dans la même ville"
   ]
  },
  {
   "cell_type": "code",
   "execution_count": null,
   "metadata": {},
   "outputs": [],
   "source": [
    "USAhousing.hvplot.scatter(x='Avg. Area House Age', y='Price')"
   ]
  },
  {
   "cell_type": "markdown",
   "metadata": {},
   "source": [
    "**Instruction:** Visualisez la façon dont les prix évoluent en fonction du revenu moyen des habitants de la ville où se trouve la maison"
   ]
  },
  {
   "cell_type": "code",
   "execution_count": null,
   "metadata": {},
   "outputs": [],
   "source": [
    "# Code ici\n"
   ]
  },
  {
   "cell_type": "markdown",
   "metadata": {},
   "source": [
    "On peut en fait tracer en une seule figure les histogrammes de toutes les variables et visualiser l'évolution de chaque variable en fonction de toutes les autres!  "
   ]
  },
  {
   "cell_type": "code",
   "execution_count": null,
   "metadata": {
    "execution": {
     "iopub.execute_input": "2023-01-29T20:02:05.735203Z",
     "iopub.status.busy": "2023-01-29T20:02:05.734768Z",
     "iopub.status.idle": "2023-01-29T20:02:12.553864Z",
     "shell.execute_reply": "2023-01-29T20:02:12.552834Z",
     "shell.execute_reply.started": "2023-01-29T20:02:05.735168Z"
    },
    "trusted": true
   },
   "outputs": [],
   "source": [
    "sns.pairplot(USAhousing)"
   ]
  },
  {
   "cell_type": "markdown",
   "metadata": {},
   "source": [
    "Calculons la matrice de corrélation entre toutes les colonnes du dataframe `'USAhousing'` (à l'exception de la colonne `'Address'`)"
   ]
  },
  {
   "cell_type": "code",
   "execution_count": null,
   "metadata": {},
   "outputs": [],
   "source": [
    "correlation_matrix = USAhousing.iloc[:,USAhousing.columns!='Address'].corr()"
   ]
  },
  {
   "cell_type": "markdown",
   "metadata": {},
   "source": [
    "**Instruction**: Visualisez la matrice de corrélation à l'aide d'une heatmap\n",
    "\n",
    "\n",
    "<details>\n",
    "<summary>Aide</summary>\n",
    "Voir <a href=\"https://seaborn.pydata.org/generated/seaborn.heatmap.html\"> sns.heatmap</a>\n",
    "</details>"
   ]
  },
  {
   "cell_type": "code",
   "execution_count": null,
   "metadata": {
    "execution": {
     "iopub.execute_input": "2023-01-29T20:02:32.325705Z",
     "iopub.status.busy": "2023-01-29T20:02:32.325277Z",
     "iopub.status.idle": "2023-01-29T20:02:32.770848Z",
     "shell.execute_reply": "2023-01-29T20:02:32.769736Z",
     "shell.execute_reply.started": "2023-01-29T20:02:32.325669Z"
    },
    "trusted": true
   },
   "outputs": [],
   "source": [
    "# Code ici\n"
   ]
  },
  {
   "cell_type": "markdown",
   "metadata": {},
   "source": [
    "# 📈 Entraînement du modèle de régression linéaire\n",
    "\n",
    "> Commençons maintenant à entraîner notre modèle de régression ! \n",
    "\n",
    "> Nous devrons d'abord diviser nos données en un tableau X qui contient les caractéristiques des maisons, et un tableau y avec la variable cible, dans ce cas, la colonne `'Prix'`.\n",
    "\n",
    "> Nous exclurons en tout cas la colonne `'Address'` car elle ne contient que des informations textuelles que le modèle de régression linéaire ne peut pas utiliser.\n",
    "\n",
    "> **QUESTION**: Quelle autre colonne exclueriez-vous car peu informative?\n",
    "\n",
    "## Tableaux X et y"
   ]
  },
  {
   "cell_type": "code",
   "execution_count": null,
   "metadata": {
    "execution": {
     "iopub.execute_input": "2023-01-29T20:03:35.455571Z",
     "iopub.status.busy": "2023-01-29T20:03:35.455129Z",
     "iopub.status.idle": "2023-01-29T20:03:35.462855Z",
     "shell.execute_reply": "2023-01-29T20:03:35.461631Z",
     "shell.execute_reply.started": "2023-01-29T20:03:35.455534Z"
    },
    "trusted": true
   },
   "outputs": [],
   "source": [
    "# Garder toutes les colonnes sauf 'Address' et 'Price'\n",
    "X = USAhousing.drop(['Address','Price'],axis='columns')\n",
    "# Garder seulement la colonne 'Price'\n",
    "y = USAhousing['Price']"
   ]
  },
  {
   "cell_type": "markdown",
   "metadata": {},
   "source": [
    "## 🧱 Division en ensembles d'entraînement et de test\n",
    "\n",
    "Maintenant, divisons les données en un ensemble d'entraînement et un ensemble de test. Nous allons entraîner notre modèle sur l'ensemble d'entraînement, puis utiliser l'ensemble de test pour évaluer le modèle."
   ]
  },
  {
   "cell_type": "code",
   "execution_count": null,
   "metadata": {
    "execution": {
     "iopub.execute_input": "2023-01-29T20:04:18.076566Z",
     "iopub.status.busy": "2023-01-29T20:04:18.076111Z",
     "iopub.status.idle": "2023-01-29T20:04:18.27607Z",
     "shell.execute_reply": "2023-01-29T20:04:18.274882Z",
     "shell.execute_reply.started": "2023-01-29T20:04:18.076528Z"
    },
    "trusted": true
   },
   "outputs": [],
   "source": [
    "from sklearn.model_selection import train_test_split\n",
    "\n",
    "X_train, X_test, y_train, y_test = train_test_split(X, y, test_size=0.3, random_state=42)"
   ]
  },
  {
   "cell_type": "code",
   "execution_count": null,
   "metadata": {
    "execution": {
     "iopub.execute_input": "2023-01-29T20:04:49.476984Z",
     "iopub.status.busy": "2023-01-29T20:04:49.476574Z",
     "iopub.status.idle": "2023-01-29T20:04:49.487669Z",
     "shell.execute_reply": "2023-01-29T20:04:49.486283Z",
     "shell.execute_reply.started": "2023-01-29T20:04:49.47695Z"
    },
    "trusted": true
   },
   "outputs": [],
   "source": [
    "from sklearn import metrics\n",
    "\n",
    "def print_evaluate(true, predicted):  \n",
    "    mae = metrics.mean_absolute_error(true, predicted)\n",
    "    mse = metrics.mean_squared_error(true, predicted)\n",
    "    rmse = np.sqrt(metrics.mean_squared_error(true, predicted))\n",
    "    r2_square = metrics.r2_score(true, predicted)\n",
    "    print('MAE:', mae)\n",
    "    print('MSE:', mse)\n",
    "    print('RMSE:', rmse)\n",
    "    print('R2 Square', r2_square)\n",
    "    print('__________________________________')\n",
    "    \n",
    "def evaluate(true, predicted):\n",
    "    mae = metrics.mean_absolute_error(true, predicted)\n",
    "    mse = metrics.mean_squared_error(true, predicted)\n",
    "    rmse = np.sqrt(metrics.mean_squared_error(true, predicted))\n",
    "    r2_square = metrics.r2_score(true, predicted)\n",
    "    return mae, mse, rmse, r2_square"
   ]
  },
  {
   "cell_type": "markdown",
   "metadata": {},
   "source": [
    "# 📦 Préparation des données pour la régression linéaire\n",
    "\n",
    "> La régression linéaire a été étudiée en profondeur, et il existe beaucoup de littérature sur la manière dont vos données doivent être structurées pour tirer le meilleur parti du modèle.\n",
    "\n",
    "- **Hypothèse de linéarité.** La régression linéaire suppose que la relation entre vos variables d'entrée et de sortie est linéaire. Elle ne prend pas en charge autre chose. Cela peut sembler évident, mais il est bon de s'en souvenir lorsque vous avez de nombreuses variables. Vous devrez peut-être transformer les données pour rendre la relation linéaire (par exemple, une transformation logarithmique pour une relation exponentielle).\n",
    "\n",
    "- **Éliminer le bruit.** La régression linéaire suppose que vos variables d'entrée et de sortie ne sont pas bruitées. Envisagez d'utiliser des opérations de nettoyage des données qui vous permettent de mieux exposer et clarifier le signal dans vos données. C'est particulièrement important pour la variable de sortie, et vous voudrez éliminer les valeurs aberrantes (outliers) dans la variable de sortie (y) si possible.\n",
    "\n",
    "- **Éliminer la collinéarité.** La régression linéaire surajustera vos données lorsque vos variables d'entrée sont fortement corrélées. Envisagez de calculer les corrélations par paires de vos données d'entrée et de supprimer les corrélations les plus élevées.\n",
    "\n",
    "- **Distributions gaussiennes.** La régression linéaire fera des prédictions plus fiables si vos variables d'entrée et de sortie ont une distribution gaussienne. Vous pouvez obtenir des avantages en utilisant des transformations (par exemple, fonction logarithmique) sur vos variables pour rendre leur distribution plus proche de celle d'une gaussienne.\n",
    "\n",
    "- **Redimensionner les entrées:** La régression linéaire fera souvent des prédictions plus fiables si vous redimensionnez les variables d'entrée en utilisant la standardisation ou la normalisation."
   ]
  },
  {
   "cell_type": "code",
   "execution_count": null,
   "metadata": {
    "execution": {
     "iopub.execute_input": "2023-01-29T20:06:07.797391Z",
     "iopub.status.busy": "2023-01-29T20:06:07.796968Z",
     "iopub.status.idle": "2023-01-29T20:06:07.811318Z",
     "shell.execute_reply": "2023-01-29T20:06:07.810271Z",
     "shell.execute_reply.started": "2023-01-29T20:06:07.797353Z"
    },
    "trusted": true
   },
   "outputs": [],
   "source": [
    "from sklearn.preprocessing import StandardScaler\n",
    "from sklearn.pipeline import Pipeline\n",
    "\n",
    "# Standardisation\n",
    "pipeline = Pipeline([\n",
    "    ('std_scalar', StandardScaler())\n",
    "])\n",
    "\n",
    "X_train = pipeline.fit_transform(X_train)\n",
    "X_test = pipeline.transform(X_test)"
   ]
  },
  {
   "cell_type": "markdown",
   "metadata": {},
   "source": [
    "# ✔️ Regression Linéaire"
   ]
  },
  {
   "cell_type": "code",
   "execution_count": null,
   "metadata": {
    "execution": {
     "iopub.execute_input": "2023-01-29T20:07:30.847351Z",
     "iopub.status.busy": "2023-01-29T20:07:30.84696Z",
     "iopub.status.idle": "2023-01-29T20:07:30.856739Z",
     "shell.execute_reply": "2023-01-29T20:07:30.855482Z",
     "shell.execute_reply.started": "2023-01-29T20:07:30.84732Z"
    },
    "trusted": true
   },
   "outputs": [],
   "source": [
    "from sklearn.linear_model import LinearRegression\n",
    "\n",
    "lin_reg = LinearRegression()\n",
    "lin_reg.fit(X_train,y_train)"
   ]
  },
  {
   "cell_type": "markdown",
   "metadata": {},
   "source": [
    "## ✔️ Évaluation du modèle\n",
    "\n",
    "Évaluons le modèle en examinant ses coefficients et en comprenant comment les interpréter."
   ]
  },
  {
   "cell_type": "code",
   "execution_count": null,
   "metadata": {
    "execution": {
     "iopub.execute_input": "2023-01-29T20:07:36.182005Z",
     "iopub.status.busy": "2023-01-29T20:07:36.181328Z",
     "iopub.status.idle": "2023-01-29T20:07:36.187306Z",
     "shell.execute_reply": "2023-01-29T20:07:36.185678Z",
     "shell.execute_reply.started": "2023-01-29T20:07:36.181969Z"
    },
    "trusted": true
   },
   "outputs": [],
   "source": [
    "# Afficher l'intercept\n",
    "print(lin_reg.intercept_)"
   ]
  },
  {
   "cell_type": "code",
   "execution_count": null,
   "metadata": {
    "execution": {
     "iopub.execute_input": "2023-01-29T20:07:41.903148Z",
     "iopub.status.busy": "2023-01-29T20:07:41.902762Z",
     "iopub.status.idle": "2023-01-29T20:07:41.914688Z",
     "shell.execute_reply": "2023-01-29T20:07:41.9132Z",
     "shell.execute_reply.started": "2023-01-29T20:07:41.903117Z"
    },
    "trusted": true
   },
   "outputs": [],
   "source": [
    "# Afficher les coefficient de le régression\n",
    "coeff_df = pd.DataFrame(lin_reg.coef_, X.columns, columns=['Coefficient'])\n",
    "coeff_df"
   ]
  },
  {
   "cell_type": "markdown",
   "metadata": {},
   "source": [
    "**Question**: Comment interprétez-vous ces coefficients? \n",
    "- En maintenant constantes toutes les autres caractéristiques, une augmentation de 1 unité du **Revenu moyen de la zone** est associée à une **augmentation de X1 $**.\n",
    "- En maintenant constantes toutes les autres caractéristiques, une augmentation de 1 unité de **l'Âge moyen des maisons de la zone** est associée à une **augmentation de X2 $**.\n",
    "- En maintenant constantes toutes les autres caractéristiques, une augmentation de 1 unité du **Nombre moyen de pièces dans la zone** est associée à une **augmentation de X3 $**.\n",
    "- En maintenant constantes toutes les autres caractéristiques, une augmentation de 1 unité du **Nombre moyen de chambres dans la zone** est associée à une **augmentation de X4 $**.\n",
    "- En maintenant constantes toutes les autres caractéristiques, une augmentation de 1 unité de **la Population de la zone** est associée à une **augmentation de X5 $**.\n",
    "\n",
    "<details>\n",
    "<summary>Aide</summary>\n",
    "N'oubliez pas la standardisation faite au début sur les données!\n",
    "\n",
    "Les écart types utilisés pour la standardisation: `pipeline.named_steps['std_scalar'].scale_`\n",
    "\n",
    "</details>"
   ]
  },
  {
   "cell_type": "code",
   "execution_count": null,
   "metadata": {},
   "outputs": [],
   "source": [
    "# Déviations Standards (Ecarts Types) des caractéristiques (utilisées lors de la normalisation)\n",
    "# CODE ICI\n",
    "\n",
    "# Une augmentation de 1 unité de la feature est associée à : ...\n",
    "# CODE ICI\n"
   ]
  },
  {
   "cell_type": "markdown",
   "metadata": {},
   "source": [
    "## ✔️ Prédictions de notre modèle\n",
    "\n",
    "Obtenons des prédictions à partir de notre ensemble de test et voyons à quel point elles sont précises !"
   ]
  },
  {
   "cell_type": "code",
   "execution_count": null,
   "metadata": {
    "execution": {
     "iopub.execute_input": "2023-01-29T20:11:03.844062Z",
     "iopub.status.busy": "2023-01-29T20:11:03.843667Z",
     "iopub.status.idle": "2023-01-29T20:11:03.850183Z",
     "shell.execute_reply": "2023-01-29T20:11:03.849052Z",
     "shell.execute_reply.started": "2023-01-29T20:11:03.84403Z"
    },
    "trusted": true
   },
   "outputs": [],
   "source": [
    "pred = lin_reg.predict(X_test)"
   ]
  },
  {
   "cell_type": "code",
   "execution_count": null,
   "metadata": {
    "execution": {
     "iopub.execute_input": "2023-01-29T20:11:31.735891Z",
     "iopub.status.busy": "2023-01-29T20:11:31.735446Z",
     "iopub.status.idle": "2023-01-29T20:11:31.885365Z",
     "shell.execute_reply": "2023-01-29T20:11:31.884621Z",
     "shell.execute_reply.started": "2023-01-29T20:11:31.735811Z"
    },
    "trusted": true
   },
   "outputs": [],
   "source": [
    "pd.DataFrame({'True Values': y_test, 'Predicted Values': pred}).hvplot.scatter(x='True Values', y='Predicted Values')"
   ]
  },
  {
   "cell_type": "markdown",
   "metadata": {},
   "source": [
    "**Residual Histogram**"
   ]
  },
  {
   "cell_type": "code",
   "execution_count": null,
   "metadata": {
    "execution": {
     "iopub.execute_input": "2023-01-29T20:11:32.537323Z",
     "iopub.status.busy": "2023-01-29T20:11:32.536277Z",
     "iopub.status.idle": "2023-01-29T20:11:32.686994Z",
     "shell.execute_reply": "2023-01-29T20:11:32.685721Z",
     "shell.execute_reply.started": "2023-01-29T20:11:32.537281Z"
    },
    "trusted": true
   },
   "outputs": [],
   "source": [
    "pd.DataFrame({'Error Values': (y_test - pred)}).hvplot.kde()"
   ]
  },
  {
   "cell_type": "markdown",
   "metadata": {},
   "source": [
    "## ✔️ Métriques d'évaluation de la régression\n",
    "\n",
    "Voici trois métriques d'évaluation courantes pour les problèmes de régression :\n",
    "\n",
    "> - **Erreur absolue moyenne** (MAE) est la moyenne de la valeur absolue des erreurs :\n",
    "$$\\frac 1n\\sum_{i=1}^n|y_i-\\hat{y}_i|$$\n",
    "\n",
    "> - **Erreur quadratique moyenne** (MSE) est la moyenne des erreurs au carré :\n",
    "$$\\frac 1n\\sum_{i=1}^n(y_i-\\hat{y}_i)^2$$\n",
    "\n",
    "> - **Erreur quadratique moyenne racine** (RMSE) est la racine carrée de la moyenne des erreurs au carré :\n",
    "$$\\sqrt{\\frac 1n\\sum_{i=1}^n(y_i-\\hat{y}_i)^2}$$\n",
    "\n",
    "> 📌 Comparaison de ces métriques :\n",
    "- **MAE** est la plus facile à comprendre, car il s'agit de l'erreur moyenne.\n",
    "- **MSE** est plus populaire que MAE, car MSE \"punit\" les erreurs plus importantes, ce qui est souvent utile dans le monde réel.\n",
    "- **RMSE** est encore plus populaire que MSE, car RMSE est interprétable dans les unités \"y\".\n",
    "\n",
    "> Toutes ces métriques sont des **fonctions de coût**, que nous souhaitons minimiser.\n",
    "\n",
    "> Nous utiliserons également la métrique du [R2 score](https://kobia.fr/regression-metrics-r2-score/#:~:text=Le%20R2%20score%2C%20aussi%20appel%C3%A9,MSE%20(Mean%20Squared%20Error).). Cette métrique est une version “normalisée” de la MSE (Mean Squared Error). On peut voir le R2 comme l’erreur du modèle divisé par l’erreur d’un modèle basique qui prédit tout le temps la moyenne de la variable à prédire:\n",
    "$$1 - \\frac{\\sum_{i=1}^n (y_i - \\hat{y}_i)^2}{\\sum_{i=1}^n (y_i - \\bar{y})^2}$$\n",
    "\n",
    "> Le score R2 est d’autant plus élevé que le modèle est performant, et vaut au maximum 100%, lorsque toutes les prédictions sont exactes. Un modèle simple prédisant tout le temps la valeur moyenne atteint un score R2 de 0%."
   ]
  },
  {
   "cell_type": "code",
   "execution_count": null,
   "metadata": {
    "execution": {
     "iopub.execute_input": "2023-01-29T20:11:48.120876Z",
     "iopub.status.busy": "2023-01-29T20:11:48.12046Z",
     "iopub.status.idle": "2023-01-29T20:11:48.241557Z",
     "shell.execute_reply": "2023-01-29T20:11:48.2401Z",
     "shell.execute_reply.started": "2023-01-29T20:11:48.120841Z"
    },
    "trusted": true
   },
   "outputs": [],
   "source": [
    "test_pred = lin_reg.predict(X_test)\n",
    "train_pred = lin_reg.predict(X_train)\n",
    "\n",
    "print('Test set evaluation:\\n_____________________________________')\n",
    "print_evaluate(y_test, test_pred)\n",
    "print('Train set evaluation:\\n_____________________________________')\n",
    "print_evaluate(y_train, train_pred)\n",
    "\n",
    "results_df = pd.DataFrame(data=[[\"Linear Regression\", *evaluate(y_test, test_pred)]], \n",
    "                          columns=['Model', 'MAE', 'MSE', 'RMSE', 'R2 Square'])"
   ]
  },
  {
   "cell_type": "markdown",
   "metadata": {},
   "source": [
    "# ✔️ Random Forest Regressor\n",
    "Est-ce qu'un modèle non-linéaire plus complexe aurait fait mieux?"
   ]
  },
  {
   "cell_type": "code",
   "execution_count": null,
   "metadata": {
    "execution": {
     "iopub.execute_input": "2022-01-20T10:21:15.427749Z",
     "iopub.status.busy": "2022-01-20T10:21:15.427517Z",
     "iopub.status.idle": "2022-01-20T10:21:30.690845Z",
     "shell.execute_reply": "2022-01-20T10:21:30.689855Z",
     "shell.execute_reply.started": "2022-01-20T10:21:15.427719Z"
    },
    "trusted": true
   },
   "outputs": [],
   "source": [
    "from sklearn.ensemble import RandomForestRegressor\n",
    "\n",
    "rf_reg = RandomForestRegressor(n_estimators=1000)\n",
    "rf_reg.fit(X_train, y_train)\n",
    "\n",
    "test_pred = rf_reg.predict(X_test)\n",
    "train_pred = rf_reg.predict(X_train)\n",
    "\n",
    "print('Test set evaluation:\\n_____________________________________')\n",
    "print_evaluate(y_test, test_pred)\n",
    "\n",
    "print('Train set evaluation:\\n_____________________________________')\n",
    "print_evaluate(y_train, train_pred)\n",
    "\n",
    "results_df_2 = pd.DataFrame(data=[[\"Random Forest Regressor\", *evaluate(y_test, test_pred)]], \n",
    "                            columns=['Model', 'MAE', 'MSE', 'RMSE', 'R2 Square'])\n",
    "results_df = pd.concat([results_df, results_df_2], ignore_index=True)\n"
   ]
  },
  {
   "cell_type": "code",
   "execution_count": null,
   "metadata": {
    "execution": {
     "iopub.execute_input": "2022-01-20T10:21:34.345564Z",
     "iopub.status.busy": "2022-01-20T10:21:34.345289Z",
     "iopub.status.idle": "2022-01-20T10:21:34.359601Z",
     "shell.execute_reply": "2022-01-20T10:21:34.358572Z",
     "shell.execute_reply.started": "2022-01-20T10:21:34.345532Z"
    },
    "trusted": true
   },
   "outputs": [],
   "source": [
    "results_df"
   ]
  },
  {
   "cell_type": "markdown",
   "metadata": {},
   "source": [
    "**Question**: Comment interprétez-vous ces resultats? \n",
    "\n",
    "- Quel modèle a les meilleures performances sur les données de test?\n",
    "\n",
    "- Qu'en est-il des performances sur les données d'entrainement?\n",
    "\n",
    "- Discutez le biais et la variance des deux modèles et le risque de sur-apprentissage.\n",
    "\n",
    "<details>\n",
    "<summary>Rappel</summary>\n",
    "\n",
    "- Un modèle **surajusté** (overfitted) correspond trop étroitement aux données d'entraînement, et ne généralise pas efficacement.\n",
    "\n",
    "- **Biais** : Erreur due à des hypothèses simplificatrices du modèle, conduisant à des prédictions erronées sur les données d'entraînement et de test.\n",
    "\n",
    "- **Variance** : Sensibilité excessive aux variations dans les données d'entraînement, entraînant des \n",
    "fluctuations importantes des prédictions entre différents ensembles de données.\n",
    "</details>"
   ]
  },
  {
   "attachments": {},
   "cell_type": "markdown",
   "metadata": {},
   "source": [
    "# 📝 Résumé\n",
    "Dans ce notebook, vous avez utiliser deux algorithmes de régression pour l'apprentissage automatique.\n",
    "\n",
    "Vous avez couvert les aspects suivants:\n",
    "> - Le modèle courant de régression linéaire\n",
    "> - L'exploration et la préparation des données avant leur utilisation pour la régression linéaire.\n",
    "> - L'entrainement du modèle de régression linéaire\n",
    "> - L'interprétation du modèle\n",
    "> - L'évaluation du modèle \n",
    "> - La comparaison avec les prédictions d'un modèle plus complexe\n",
    "\n",
    "\n",
    "# 🔗 References:\n",
    "- [Scikit-learn library](https://scikit-learn.org/stable/supervised_learning.html#supervised-learning)\n",
    "- [Linear Regression for Machine Learning by Jason Brownlee PhD](https://machinelearningmastery.com/linear-regression-for-machine-learning/)\n",
    "- [Kaggle - Practical Introduction to 10 Regression Algorithm](https://www.kaggle.com/code/faressayah/practical-introduction-to-10-regression-algorithm)"
   ]
  }
 ],
 "metadata": {
  "kernelspec": {
   "display_name": "Python 3",
   "language": "python",
   "name": "python3"
  },
  "language_info": {
   "codemirror_mode": {
    "name": "ipython",
    "version": 3
   },
   "file_extension": ".py",
   "mimetype": "text/x-python",
   "name": "python",
   "nbconvert_exporter": "python",
   "pygments_lexer": "ipython3",
   "version": "3.11.5"
  }
 },
 "nbformat": 4,
 "nbformat_minor": 4
}
