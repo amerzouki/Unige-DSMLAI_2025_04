{
 "cells": [
  {
   "cell_type": "markdown",
   "metadata": {},
   "source": [
    "# Régression logistique - Analyse de sentiment des tweets\n",
    "\n",
    "Vous allez apprendre la régression logistique. Concrètement, vous allez implémenter la régression logistique pour l'analyse de sentiment sur des tweets. À partir d'un tweet, vous déciderez s'il a un sentiment positif ou négatif. Plus précisément, vous allez :\n",
    "\n",
    "* Apprendre à extraire des caractéristiques pour la régression logistique à partir d'un texte.\n",
    "* Implémenter la régression logistique à partir de zéro.\n",
    "* Appliquer la régression logistique à une tâche de traitement du langage naturel.\n",
    "* Tester votre régression logistique.\n",
    "* Effectuer une analyse des erreurs.\n",
    "\n",
    "Nous utiliserons un ensemble de données de tweets. Espérons que vous obtiendrez une précision de plus de 99%. Exécutez la cellule ci-dessous pour charger les packages."
   ]
  },
  {
   "cell_type": "markdown",
   "metadata": {},
   "source": [
    "## Installation de librairies manquantes"
   ]
  },
  {
   "cell_type": "code",
   "execution_count": 1,
   "metadata": {},
   "outputs": [
    {
     "name": "stdout",
     "output_type": "stream",
     "text": [
      "Requirement already satisfied: nltk in /Library/Frameworks/Python.framework/Versions/3.13/lib/python3.13/site-packages (3.9.1)\n",
      "Requirement already satisfied: click in /Library/Frameworks/Python.framework/Versions/3.13/lib/python3.13/site-packages (from nltk) (8.1.8)\n",
      "Requirement already satisfied: joblib in /Library/Frameworks/Python.framework/Versions/3.13/lib/python3.13/site-packages (from nltk) (1.4.2)\n",
      "Requirement already satisfied: regex>=2021.8.3 in /Library/Frameworks/Python.framework/Versions/3.13/lib/python3.13/site-packages (from nltk) (2024.11.6)\n",
      "Requirement already satisfied: tqdm in /Library/Frameworks/Python.framework/Versions/3.13/lib/python3.13/site-packages (from nltk) (4.67.1)\n",
      "Note: you may need to restart the kernel to use updated packages.\n"
     ]
    }
   ],
   "source": [
    "%pip install nltk"
   ]
  },
  {
   "cell_type": "markdown",
   "metadata": {},
   "source": [
    "## Imports (librairies, fonctions et données)"
   ]
  },
  {
   "cell_type": "code",
   "execution_count": 2,
   "metadata": {},
   "outputs": [],
   "source": [
    "# Importe librairie nltk\n",
    "import nltk\n",
    "from os import getcwd"
   ]
  },
  {
   "cell_type": "code",
   "execution_count": 3,
   "metadata": {},
   "outputs": [
    {
     "name": "stderr",
     "output_type": "stream",
     "text": [
      "[nltk_data] Downloading package twitter_samples to\n",
      "[nltk_data]     /Users/azizamerzouki/nltk_data...\n",
      "[nltk_data]   Package twitter_samples is already up-to-date!\n",
      "[nltk_data] Downloading package stopwords to\n",
      "[nltk_data]     /Users/azizamerzouki/nltk_data...\n",
      "[nltk_data]   Package stopwords is already up-to-date!\n"
     ]
    }
   ],
   "source": [
    "import numpy as np\n",
    "import pandas as pd\n",
    "import nltk\n",
    "nltk.download('twitter_samples')\n",
    "from nltk.corpus import twitter_samples \n",
    "from utils import process_tweet, build_freqs # importe les fonctions d'aide à partir du fichier `utils.py."
   ]
  },
  {
   "cell_type": "markdown",
   "metadata": {},
   "source": [
    "### Préparation des données\n",
    "\n",
    "* Les données `twitter_samples` contiennent des sous-ensembles de 5 000 tweets positifs, 5 000 tweets négatifs et l'ensemble complet de 10 000 tweets.\n",
    "\n",
    "* Nous allons sélectionner uniquement les 5 000 tweets positifs et les 5 000 tweets négatifs."
   ]
  },
  {
   "cell_type": "code",
   "execution_count": 4,
   "metadata": {},
   "outputs": [],
   "source": [
    "# Récupère les ensembles de tweets positifs and négatifs\n",
    "all_positive_tweets = twitter_samples.strings('positive_tweets.json')\n",
    "all_negative_tweets = twitter_samples.strings('negative_tweets.json')"
   ]
  },
  {
   "cell_type": "markdown",
   "metadata": {},
   "source": [
    "**Instructions**: Vérifiez le nombre de tweets positifs et de tweets négatifs\n",
    "<details>\n",
    "<summary>Aide</summary>\n",
    "\n",
    "Utilisez la fonction `len(...)`\n",
    "</details>"
   ]
  },
  {
   "cell_type": "code",
   "execution_count": 5,
   "metadata": {},
   "outputs": [
    {
     "name": "stdout",
     "output_type": "stream",
     "text": [
      "5000\n",
      "5000\n"
     ]
    }
   ],
   "source": [
    "### Code ici\n",
    "print(len(all_positive_tweets))\n",
    "print(len(all_negative_tweets))"
   ]
  },
  {
   "cell_type": "markdown",
   "metadata": {},
   "source": [
    "***Instructions***: Diviser les données en ensembles d'entraînement et de test, avec 20% des données dans l'ensemble de test et 80% dans l'ensemble d'entraînement.\n",
    "<details>\n",
    "<summary>Aide</summary>\n",
    "\n",
    "* Pour sélectionner les X premiers éléments d'une liste L, vous pouvez utiliser `L[:X]`.\n",
    "* Pour sélectionner les éléments restants (N-X) si la liste L est de longeur N, vous pouvez utiliser `L[X:]`.\n",
    "</details>\n"
   ]
  },
  {
   "cell_type": "code",
   "execution_count": 6,
   "metadata": {},
   "outputs": [],
   "source": [
    "# Divise les données en deux ensembles, l'un pour l'entrainement et l'autre pour le test \n",
    "### Code ici - Début\n",
    "test_pos = all_positive_tweets[4000:]\n",
    "train_pos = all_positive_tweets[:4000]\n",
    "test_neg = all_negative_tweets[4000:]\n",
    "train_neg = all_negative_tweets[:4000]\n",
    "### Code ici - Fin\n",
    "\n",
    "# Combine les tweets positifs et négatifs des deux ensembles\n",
    "train_x = train_pos + train_neg \n",
    "test_x = test_pos + test_neg"
   ]
  },
  {
   "cell_type": "code",
   "execution_count": 7,
   "metadata": {},
   "outputs": [
    {
     "name": "stdout",
     "output_type": "stream",
     "text": [
      "len(train_x) = 8000\n",
      "len(test_x) = 2000\n"
     ]
    }
   ],
   "source": [
    "# Vérifie la taille des ensembles d'entrainment et de test\n",
    "print(\"len(train_x) = \" + str(len(train_x)))\n",
    "print(\"len(test_x) = \" + str(len(test_x)))"
   ]
  },
  {
   "cell_type": "code",
   "execution_count": 8,
   "metadata": {},
   "outputs": [],
   "source": [
    "# Combine les étiquettes positives et négatives\n",
    "train_y = np.append(np.ones((len(train_pos), 1)), np.zeros((len(train_neg), 1)), axis=0)\n",
    "test_y = np.append(np.ones((len(test_pos), 1)), np.zeros((len(test_neg), 1)), axis=0)"
   ]
  },
  {
   "cell_type": "code",
   "execution_count": 9,
   "metadata": {},
   "outputs": [
    {
     "name": "stdout",
     "output_type": "stream",
     "text": [
      "train_y.shape = (8000, 1)\n",
      "test_y.shape = (2000, 1)\n"
     ]
    }
   ],
   "source": [
    "# Affiche la taille des ensembles d'entrainment et de test\n",
    "print(\"train_y.shape = \" + str(train_y.shape))\n",
    "print(\"test_y.shape = \" + str(test_y.shape))"
   ]
  },
  {
   "cell_type": "markdown",
   "metadata": {},
   "source": [
    "* Créez le dictionnaire de fréquence en utilisant la fonction `build_freqs()` importée.\n",
    "* Il est vivement recommandé d'ouvrir `utils.py` et de lire la fonction `build_freqs()` pour comprendre ce qu'elle fait.\n",
    "\n",
    "* `build_freqs()` est une fonction qui compte combien de fois un mot dans le 'corpus' (l'ensemble complet des tweets) était associé à une étiquette positive '1' ou à une étiquette négative '0', puis construit le dictionnaire `freqs`, où chaque clé `key` est un tuple (mot, étiquette) et la valeur `value` est le compte de sa fréquence dans le corpus des tweets."
   ]
  },
  {
   "cell_type": "code",
   "execution_count": 10,
   "metadata": {},
   "outputs": [
    {
     "name": "stdout",
     "output_type": "stream",
     "text": [
      "type(freqs) = <class 'dict'>\n",
      "len(freqs) = 11307\n"
     ]
    }
   ],
   "source": [
    "# Crée le dictionnaire des férquences\n",
    "freqs = build_freqs(train_x, train_y)\n",
    "\n",
    "# Vérifie le résultat\n",
    "print(\"type(freqs) = \" + str(type(freqs)))\n",
    "print(\"len(freqs) = \" + str(len(freqs.keys())))"
   ]
  },
  {
   "cell_type": "markdown",
   "metadata": {},
   "source": [
    "**Instructions**: Affichez les 20 éléments du dictionnaire `freqs` avec les plus grandes valeurs (fréquences)\n",
    "* Rappel: Chaque élément (`item`) du dictionnaire `freqs` a pour clé (`key`) une pair (mot, étiquette) et une valeur (`value`) correspondant à la fréquence. \n",
    "\n",
    "\n",
    "<details>\n",
    "<summary>Aide</summary>\n",
    "\n",
    "#### Exemple : Trier un dictionnaire par valeur dans l'ordre décroissant \n",
    "sorted_list = sorted(my_dict.items(), key = lambda x:x[1], reverse = True)\n",
    "</details>\n",
    "\n"
   ]
  },
  {
   "cell_type": "code",
   "execution_count": 11,
   "metadata": {},
   "outputs": [
    {
     "name": "stdout",
     "output_type": "stream",
     "text": [
      "[((':(', 0.0), 3663), ((':)', 1.0), 2847), ((':-)', 1.0), 543), (('thank', 1.0), 504), ((':d', 1.0), 498), ((':-(', 0.0), 378), (('love', 1.0), 336), (('follow', 1.0), 319), (('...', 0.0), 282), (('follow', 0.0), 245), (('pleas', 0.0), 243), (('miss', 0.0), 239), (('...', 1.0), 227), (('♛', 0.0), 210), (('》', 0.0), 210), (('good', 1.0), 191), (('day', 1.0), 187), (('like', 1.0), 187), (('want', 0.0), 185), (('like', 0.0), 182)]\n"
     ]
    }
   ],
   "source": [
    "### Code ici\n",
    "sorted_freqs = sorted(freqs.items(), key = lambda x:x[1], reverse = True)\n",
    "print(sorted_freqs[:20])"
   ]
  },
  {
   "cell_type": "markdown",
   "metadata": {},
   "source": [
    "### Process tweet\n",
    "La fonction `process_tweet()` fournie tokenise le tweet en mots individuels, supprime les mots vides (stop words) et applique la racinisation (stemming)."
   ]
  },
  {
   "cell_type": "code",
   "execution_count": 12,
   "metadata": {},
   "outputs": [
    {
     "name": "stdout",
     "output_type": "stream",
     "text": [
      "This is an example of a positive tweet: \n",
      " #FollowFriday @France_Inte @PKuchly57 @Milipol_Paris for being top engaged members in my community this week :)\n",
      "\n",
      "This is an example of the processed version of the tweet: \n",
      " ['followfriday', 'top', 'engag', 'member', 'commun', 'week', ':)']\n"
     ]
    }
   ],
   "source": [
    "# test de la fonction\n",
    "print('This is an example of a positive tweet: \\n', train_x[0])\n",
    "print('\\nThis is an example of the processed version of the tweet: \\n', process_tweet(train_x[0]))"
   ]
  },
  {
   "cell_type": "markdown",
   "metadata": {},
   "source": [
    "#### Expected output\n",
    "```\n",
    "This is an example of a positive tweet: \n",
    " #FollowFriday @France_Inte @PKuchly57 @Milipol_Paris for being top engaged members in my community this week :)\n",
    " \n",
    "This is an example of the processes version: \n",
    " ['followfriday', 'top', 'engag', 'member', 'commun', 'week', ':)']\n",
    "```"
   ]
  },
  {
   "cell_type": "markdown",
   "metadata": {},
   "source": [
    "# 1. Regression Logistique\n",
    "\n",
    "\n",
    "### Sigmoide\n",
    "$$ h(z) = \\frac{1}{1+\\exp^{-z}} \\tag{1}$$"
   ]
  },
  {
   "cell_type": "code",
   "execution_count": 13,
   "metadata": {},
   "outputs": [],
   "source": [
    "def sigmoid(z): \n",
    "    '''\n",
    "    Input:\n",
    "        z: is the input (can be a scalar or an array)\n",
    "    Output:\n",
    "        h: the sigmoid of z\n",
    "    '''\n",
    "  \n",
    "    # calcule la sigmoide de z\n",
    "    h = 1/(1+np.exp(-1*z))\n",
    "    \n",
    "    return h"
   ]
  },
  {
   "cell_type": "markdown",
   "metadata": {},
   "source": [
    "### Regression Logistique: regression et sigmoide\n",
    "\n",
    "La régression logistique prend une régression linéaire régulière et applique une fonction sigmoïde à la sortie de la régression linéaire.\n",
    "\n",
    "Régression linéaire :\n",
    "$$z = \\theta_0 x_0 + \\theta_1 x_1 + \\theta_2 x_2 + ... \\theta_N x_N$$\n",
    "Notez que les valeurs $\\theta$ sont les \"poids\".\n",
    "\n",
    "Régression logistique :\n",
    "$$ h(z) = \\frac{1}{1+\\exp^{-z}}$$\n",
    "$$z = \\theta_0 x_0 + \\theta_1 x_1 + \\theta_2 x_2 + ... \\theta_N x_N$$"
   ]
  },
  {
   "cell_type": "markdown",
   "metadata": {},
   "source": [
    "### Partie 1.2 Fonction de coût et Gradient\n",
    "\n",
    "La fonction de coût utilisée pour la régression logistique est la moyenne de la cross-entropie sur l'ensemble des exemples d'entraînement :\n",
    "\n",
    "$$J(\\theta) = -\\frac{1}{m} \\sum_{i=1}^m y^{(i)}\\log (h(z(\\theta)^{(i)})) + (1-y^{(i)})\\log (1-h(z(\\theta)^{(i)}))\\tag{5} $$\n",
    "* $m$ est le nombre d'exemples d'entraînement.\n",
    "* $y^{(i)}$ est l'étiquette réelle du i-ème exemple d'entraînement.\n",
    "* $h(z(\\theta)^{(i)})$ est la prédiction du modèle pour le i-ème exemple d'entraînement.\n",
    "\n",
    "La fonction de coût pour un seul exemple d'entraînement est\n",
    "$$ -1 \\times \\left( y^{(i)}\\log (h(z(\\theta)^{(i)})) + (1-y^{(i)})\\log (1-h(z(\\theta)^{(i)})) \\right)$$"
   ]
  },
  {
   "cell_type": "markdown",
   "metadata": {},
   "source": [
    "#### Mise à jour des poids\n",
    "\n",
    "Pour mettre à jour le vecteur de poids $\\theta$, vous appliquerez la descente de gradient pour améliorer itérativement les prédictions de votre modèle.\n",
    "\n",
    "Le gradient de la fonction de coût $J$ par rapport à l'un des poids $\\theta_j$ est donné par :\n",
    "\n",
    "$$\\nabla_{\\theta_j}J(\\theta) = \\frac{1}{m} \\sum_{i=1}^m(h^{(i)}-y^{(i)})x_j \\tag{5}$$\n",
    "\n",
    "* 'i' est l'indice à travers les 'm' exemples d'entraînement.\n",
    "* 'j' est l'indice du poids $\\theta_j$, donc $x_j$ est la caractéristique associée au poids $\\theta_j$.\n",
    "\n",
    "Pour mettre à jour le poids $\\theta_j$, nous l'ajustons en soustrayant une fraction du gradient déterminée par $\\alpha$ :\n",
    "\n",
    "$$\\theta_j = \\theta_j - \\alpha \\times \\nabla_{\\theta_j}J(\\theta)$$\n",
    "\n",
    "* Le taux d'apprentissage $\\alpha$ est une valeur que nous choisissons pour contrôler la taille d'une seule mise à jour."
   ]
  },
  {
   "cell_type": "markdown",
   "metadata": {},
   "source": [
    "## Instructions : Implémentez la fonction de descente de gradient\n",
    "* Le nombre d'itérations `num_iters` est le nombre de fois que vous utiliserez l'ensemble complet d'entraînement.\n",
    "* À chaque itération, vous calculerez la fonction de coût en utilisant tous les exemples d'entraînement (il y a `m` exemples d'entraînement) et pour toutes les caractéristiques.\n",
    "* Au lieu de mettre à jour un seul poids $\\theta_i$ à la fois, nous pouvons mettre à jour tous les poids dans le vecteur colonne :\n",
    "$$\\mathbf{\\theta} = \\begin{pmatrix}\n",
    "\\theta_0\n",
    "\\\\\n",
    "\\theta_1\n",
    "\\\\ \n",
    "\\theta_2 \n",
    "\\\\ \n",
    "\\vdots\n",
    "\\\\ \n",
    "\\theta_n\n",
    "\\end{pmatrix}$$\n",
    "* $\\mathbf{\\theta}$ a des dimensions (n+1, 1), où 'n' est le nombre de caractéristiques, et il y a un élément de plus pour le terme de biais $\\theta_0$ (notez que la valeur de caractéristique correspondante $\\mathbf{x_0}$ est 1).\n",
    "* Les 'logits', 'z', sont calculés en multipliant la matrice de caractéristiques 'x' par le vecteur de poids 'theta'.  $z = \\mathbf{x}\\mathbf{\\theta}$\n",
    "    * $\\mathbf{x}$ a des dimensions (m, n+1) \n",
    "    * $\\mathbf{\\theta}$ a des dimensions (n+1, 1)\n",
    "    * $\\mathbf{z}$ a des dimensions (m, 1)\n",
    "* La prédiction 'h' est calculée en appliquant la sigmoïde à chaque élément de 'z' : $h(z) = sigmoid(z)$, et a des dimensions (m,1).\n",
    "* La fonction de coût $J$ est calculée en prenant le produit scalaire des vecteurs 'y' et 'log(h)'.  Comme 'y' et 'h' sont tous deux des vecteurs colonnes (m,1), transposez le vecteur à gauche, de sorte que la multiplication matricielle d'un vecteur ligne avec un vecteur colonne effectue le produit scalaire.\n",
    "$$J = \\frac{-1}{m} \\times \\left(\\mathbf{y}^T \\cdot log(\\mathbf{h}) + \\mathbf{(1-y)}^T \\cdot log(\\mathbf{1-h}) \\right)$$\n",
    "* La mise à jour de $\\theta$ est également vectorisée. Parce que les dimensions de $\\mathbf{x}$ sont (m, n+1), et à la fois $\\mathbf{h}$ et $\\mathbf{y}$ sont (m, 1), nous devons transposer $\\mathbf{x}$ et le placer à gauche afin de réaliser la multiplication matricielle, ce qui nous donne ensuite la réponse dont nous avons besoin de dimensions (n+1, 1) :\n",
    "$$\\mathbf{\\theta} = \\mathbf{\\theta} - \\frac{\\alpha}{m} \\times \\left( \\mathbf{x}^T \\cdot \\left( \\mathbf{h-y} \\right) \\right)$$"
   ]
  },
  {
   "cell_type": "markdown",
   "metadata": {},
   "source": [
    "<details>    \n",
    "<summary>Aide</summary>\n",
    "\n",
    "Voir la méthode np.dot pour le produit matriciel\n",
    "</details>\n"
   ]
  },
  {
   "cell_type": "code",
   "execution_count": 14,
   "metadata": {},
   "outputs": [],
   "source": [
    "def gradientDescent(x, y, theta, alpha, num_iters):\n",
    "    '''\n",
    "    Input:\n",
    "        x: matrix of features which is (m,n+1)\n",
    "        y: corresponding labels of the input matrix x, dimensions (m,1)\n",
    "        theta: weight vector of dimension (n+1,1)\n",
    "        alpha: learning rate\n",
    "        num_iters: number of iterations you want to train your model for\n",
    "    Output:\n",
    "        J: the final cost\n",
    "        theta: your final weight vector\n",
    "    Hint: you might want to print the cost to make sure that it is going down.\n",
    "    '''\n",
    "    # 'm', Nombre de ligne de la matrice x\n",
    "    m = x.shape[0]\n",
    "    \n",
    "    for i in range(0, num_iters):\n",
    "        \n",
    "        ### Code ici - Début\n",
    "        # Calculez z, produit scalaire de x et theta (combinaiason linéaire)\n",
    "        z = x.dot(theta)\n",
    "        \n",
    "        # Calculez z la sigmoide de z\n",
    "        h = sigmoid(z)\n",
    "        ### Code ici - Fin\n",
    "\n",
    "        # Calcule la fonction de coût avec les m observations\n",
    "        J = float(-1/m)*(np.transpose(y).dot(np.log(h))+np.transpose(1-y).dot(np.log(1-h)))\n",
    "        \n",
    "        # Met à jour les poids theta\n",
    "        theta = theta-alpha*np.transpose(x).dot((h-y))/m\n",
    "        \n",
    "    #J = float(J) #Deprecated\n",
    "    J = float(J.item())\n",
    "    return J, theta"
   ]
  },
  {
   "cell_type": "code",
   "execution_count": 15,
   "metadata": {},
   "outputs": [
    {
     "name": "stdout",
     "output_type": "stream",
     "text": [
      "The cost after training is 0.62815242.\n",
      "The resulting vector of weights is [np.float64(3.49e-06), np.float64(0.00201995), np.float64(-0.00066304)]\n"
     ]
    }
   ],
   "source": [
    "# Vérifiez la fonction\n",
    "# Construire un cas de test synthétique\n",
    "np.random.seed(1)\n",
    "# X de taille 10 x 3\n",
    "tmp_X = np.append(np.ones((10, 1)), np.random.rand(10, 2) * 2000, axis=1)\n",
    "# Y étiquettes de tailles 10 x 1\n",
    "tmp_Y = (np.random.rand(10, 1) > 0.35).astype(float)\n",
    "# Intialisez les poids à zéros de taille 3x1\n",
    "tmp_theta = np.zeros((3, 1))\n",
    "# Initialisez le nombre de d'itétations à 10000 et le taux d'apprentissage à 1e-8\n",
    "tmp_num_iters = 10000\n",
    "tmp_alpha = 1e-8\n",
    "# Appliquez la descente de gradient\n",
    "tmp_J, tmp_theta = gradientDescent(tmp_X, tmp_Y, tmp_theta, tmp_alpha, tmp_num_iters)\n",
    "print(f\"The cost after training is {tmp_J:.8f}.\")\n",
    "print(f\"The resulting vector of weights is {[round(t, 8) for t in np.squeeze(tmp_theta)]}\")"
   ]
  },
  {
   "cell_type": "markdown",
   "metadata": {},
   "source": [
    "## Partie 2 : Extraction des caractéristiques\n",
    "\n",
    "* Étant donné une liste de tweets, extrayez les caractéristiques et stockez-les dans une matrice. Vous allez extraire deux caractéristiques.\n",
    "    * La première caractéristique est le nombre de mots positifs dans un tweet.\n",
    "    * La deuxième caractéristique est le nombre de mots négatifs dans un tweet.\n",
    "* Ensuite, entraînez votre classificateur de régression logistique sur ces caractéristiques.\n",
    "* Testez le classificateur sur un ensemble de validation.\n",
    "\n",
    "### Instructions : Implémentez la fonction extract_features.\n",
    "* Cette fonction prend en entrée un seul tweet.\n",
    "* Traitez le tweet en utilisant la fonction `process_tweet()` importée et enregistrez la liste des mots du tweet.\n",
    "* Parcourez chaque mot de la liste des mots traités\n",
    "    * Pour chaque mot, vérifiez le dictionnaire `freqs` pour le décompte lorsque ce mot a une étiquette positive '1'. (Vérifiez la clé (mot, 1.0))\n",
    "    * Faites de même pour le décompte lorsque le mot est associé à l'étiquette négative '0'. (Vérifiez la clé (mot, 0.0).)"
   ]
  },
  {
   "cell_type": "markdown",
   "metadata": {},
   "source": [
    "<details>    \n",
    "<summary>\n",
    "    Aide\n",
    "</summary>\n",
    "\n",
    "* Assurez-vous de gérer les cas où la clé (mot, étiquette) n'est pas trouvée dans le dictionnaire.</li>\n",
    "* Cherchez comment utiliser la méthode `.get()` d'un dictionnaire Python sur le web. Voici un <a href=\"https://www.programiz.com/python-programming/methods/dictionary/get\" > exemple </a>.</li>\n",
    "</details>    "
   ]
  },
  {
   "cell_type": "code",
   "execution_count": 16,
   "metadata": {},
   "outputs": [],
   "source": [
    "def extract_features(tweet, freqs):\n",
    "    '''\n",
    "    Input: \n",
    "        tweet: a list of words for one tweet\n",
    "        freqs: a dictionary corresponding to the frequencies of each tuple (word, label)\n",
    "    Output: \n",
    "        x: a feature vector of dimension (1,3)\n",
    "    '''\n",
    "    # process_tweet tokenise, stem, et enlève les stopwords\n",
    "    word_l = process_tweet(tweet)\n",
    "    \n",
    "    # features à 0\n",
    "    x = np.zeros((1, 3)) \n",
    "    \n",
    "    #biais fixé à 1\n",
    "    x[0,0] = 1 \n",
    "    \n",
    "    ### Code ici - Début\n",
    "    \n",
    "    # Boucle sur chacun des mots\n",
    "    for word in word_l:\n",
    "        \n",
    "        # Incrémente le score positif du mot avec sa fréquence dans les tweets positifs\n",
    "        x[0,1] += freqs.get((word,1),0.0)\n",
    "        \n",
    "        # Incrémente le score négatif du mot avec sa fréquence dans les tweets négatifs\n",
    "        x[0,2] += freqs.get((word,0),0.0)\n",
    "        \n",
    "    ### Code ici - Fin\n",
    "    assert(x.shape == (1, 3))\n",
    "    return x"
   ]
  },
  {
   "cell_type": "code",
   "execution_count": 17,
   "metadata": {},
   "outputs": [
    {
     "name": "stdout",
     "output_type": "stream",
     "text": [
      "#FollowFriday @France_Inte @PKuchly57 @Milipol_Paris for being top engaged members in my community this week :)\n",
      "[[1.00e+00 3.02e+03 6.10e+01]]\n"
     ]
    }
   ],
   "source": [
    "# Testez votre fonction\n",
    "\n",
    "# test 1:\n",
    "# test sur une donnée d'entrainement\n",
    "tmp1 = extract_features(train_x[0], freqs)\n",
    "print(train_x[0])\n",
    "print(tmp1)"
   ]
  },
  {
   "cell_type": "markdown",
   "metadata": {},
   "source": [
    "#### Expected output\n",
    "```\n",
    "[[1.00e+00 3.02e+03 6.10e+01]]\n",
    "```"
   ]
  },
  {
   "cell_type": "code",
   "execution_count": 18,
   "metadata": {},
   "outputs": [
    {
     "name": "stdout",
     "output_type": "stream",
     "text": [
      "[[1. 0. 0.]]\n"
     ]
    }
   ],
   "source": [
    "# test 2:\n",
    "# Vérifiez dans le cas où les mots ne sont pas dans le dictionnaire des frequences\n",
    "tmp2 = extract_features('blorb bleeeeb bloooob', freqs)\n",
    "print(tmp2)"
   ]
  },
  {
   "cell_type": "markdown",
   "metadata": {},
   "source": [
    "#### Expected output\n",
    "```\n",
    "[[1. 0. 0.]]\n",
    "```"
   ]
  },
  {
   "cell_type": "markdown",
   "metadata": {},
   "source": [
    "## Partie 3: Entrainement du Modèle"
   ]
  },
  {
   "cell_type": "code",
   "execution_count": 19,
   "metadata": {},
   "outputs": [
    {
     "name": "stdout",
     "output_type": "stream",
     "text": [
      "The cost after training is 0.12778126.\n",
      "The resulting vector of weights is [np.float64(2.9e-07), np.float64(0.00111861), np.float64(-0.00099345)]\n"
     ]
    }
   ],
   "source": [
    "# collecter les features 'x' dans une matrice 'X'\n",
    "X = np.zeros((len(train_x), 3))\n",
    "for i in range(len(train_x)):\n",
    "    X[i, :]= extract_features(train_x[i], freqs)\n",
    "\n",
    "# Etiquettes correspondant à X\n",
    "Y = train_y\n",
    "\n",
    "# Applique la descente de gradient\n",
    "J, theta = gradientDescent(X, Y, np.zeros((3, 1)), 1e-9, 7000)\n",
    "print(f\"The cost after training is {J:.8f}.\")\n",
    "print(f\"The resulting vector of weights is {[round(t, 8) for t in np.squeeze(theta)]}\")"
   ]
  },
  {
   "cell_type": "markdown",
   "metadata": {},
   "source": [
    "# Partie 4: Testez votre regression logistique\n",
    "\n",
    "Testez votre regression logistique sur de nouvelles données encore jamais vues par le modèle.\n",
    "\n",
    "**Instructions** : Complétez la fonction `predict_tweet`\n",
    "qui prédit si un tweet est positif ou négatif.\n",
    "\n",
    "* Extraire les features du tweet\n",
    "* Appliquez les poids du modèle appris pour calculer les combinaisons linéaires z\n",
    "* Appliquez la fonction sigmoid aux combianaisons linéaires pour prédire la valeur entre 0 et 1.\n",
    "\n",
    "$$y_{pred} = sigmoid(\\mathbf{x} \\cdot \\theta)$$"
   ]
  },
  {
   "cell_type": "code",
   "execution_count": 20,
   "metadata": {},
   "outputs": [],
   "source": [
    "def predict_tweet(tweet, freqs, theta):\n",
    "    '''\n",
    "    Input: \n",
    "        tweet: a string\n",
    "        freqs: a dictionary corresponding to the frequencies of each tuple (word, label)\n",
    "        theta: (3,1) vector of weights\n",
    "    Output: \n",
    "        y_pred: the probability of a tweet being positive or negative\n",
    "    '''\n",
    "    ### Code ici - Début\n",
    "    \n",
    "    # Extraire les features du tweet\n",
    "    x = extract_features(tweet, freqs)\n",
    "    \n",
    "    # Calculez la prédiction\n",
    "    y_pred = sigmoid(x.dot(theta))\n",
    "    \n",
    "    ### Code ici - Fin\n",
    "    \n",
    "    return y_pred"
   ]
  },
  {
   "cell_type": "code",
   "execution_count": 21,
   "metadata": {},
   "outputs": [
    {
     "name": "stdout",
     "output_type": "stream",
     "text": [
      "I am happy -> 0.540465\n",
      "I am bad -> 0.490505\n",
      "this movie should have been great. -> 0.534227\n",
      "great -> 0.533697\n",
      "great great -> 0.567089\n",
      "great great great -> 0.599883\n",
      "great great great great -> 0.631806\n"
     ]
    },
    {
     "name": "stderr",
     "output_type": "stream",
     "text": [
      "/var/folders/xp/glrbnn6n3fj9h1_rpn0wgjzw0000gn/T/ipykernel_63482/2209103747.py:3: DeprecationWarning: Conversion of an array with ndim > 0 to a scalar is deprecated, and will error in future. Ensure you extract a single element from your array before performing this operation. (Deprecated NumPy 1.25.)\n",
      "  print( '%s -> %f' % (tweet, predict_tweet(tweet, freqs, theta)))\n"
     ]
    }
   ],
   "source": [
    "# Run this cell to test your function\n",
    "for tweet in ['I am happy', 'I am bad', 'this movie should have been great.', 'great', 'great great', 'great great great', 'great great great great']:\n",
    "    print( '%s -> %f' % (tweet, predict_tweet(tweet, freqs, theta)))"
   ]
  },
  {
   "cell_type": "code",
   "execution_count": 22,
   "metadata": {},
   "outputs": [
    {
     "name": "stdout",
     "output_type": "stream",
     "text": [
      "[[  1. 536.  60.]]\n",
      "[[0.53997055]]\n"
     ]
    }
   ],
   "source": [
    "x = extract_features(tweet, freqs)\n",
    "print(x)\n",
    "print(x.dot(theta))   \n",
    "# Calculez la prédiction\n",
    "y_pred = sigmoid(x.dot(theta))"
   ]
  },
  {
   "cell_type": "code",
   "execution_count": 23,
   "metadata": {},
   "outputs": [
    {
     "data": {
      "text/plain": [
       "array([[0.96032075]])"
      ]
     },
     "execution_count": 23,
     "metadata": {},
     "output_type": "execute_result"
    }
   ],
   "source": [
    "# Vérifiez avec vos propres tweets\n",
    "my_tweet = 'I am learning :)'\n",
    "predict_tweet(my_tweet, freqs, theta)"
   ]
  },
  {
   "cell_type": "markdown",
   "metadata": {},
   "source": [
    "## Vérifiez la performance sur l'ensemble de test\n",
    "\n",
    "**Instructions:** Implementer `test_logistic_regression` \n",
    "* À partir des données de test et des poids de votre modèle entraîné, calculez la précision (accuracy) de votre modèle de régression logistique.\n",
    "* Utilisez votre fonction `predict_tweet()` pour faire des prédictions sur chaque tweet de l'ensemble de test.\n",
    "* Si la prédiction est > 0,5, définissez la classification du modèle `y_hat` à 1, sinon définissez la classification du modèle `y_hat` à 0.\n"
   ]
  },
  {
   "cell_type": "markdown",
   "metadata": {},
   "source": [
    "<details>    \n",
    "<summary>\n",
    "    <font size=\"3\" color=\"darkgreen\"><b>Note</b></font>\n",
    "</summary>\n",
    "<p>\n",
    "<ul>\n",
    "    <li>Une prédiction est exacte lorsque `y_hat` est égal à `test_y`. On additionne toutes les instances où elles sont égales et on divise par `m`.</li>\n",
    "    <li>np.asarray() convertit la `list` en un `numpy array`</li>\n",
    "    <li>np.squeeze() transforme le `array` de dimension (m,1) en un array de dimension  (m,) </li>\n",
    "</ul>\n",
    "</p>"
   ]
  },
  {
   "cell_type": "code",
   "execution_count": 24,
   "metadata": {},
   "outputs": [],
   "source": [
    "def test_logistic_regression(test_x, test_y, freqs, theta):\n",
    "    \"\"\"\n",
    "    Input: \n",
    "        test_x: a list of tweets\n",
    "        test_y: (m, 1) vector with the corresponding labels for the list of tweets\n",
    "        freqs: a dictionary with the frequency of each pair (or tuple)\n",
    "        theta: weight vector of dimension (3, 1)\n",
    "    Output: \n",
    "        accuracy: (# of tweets classified correctly) / (total # of tweets)\n",
    "    \"\"\"\n",
    "    \n",
    "    ### Code ici - Début\n",
    "    \n",
    "    # Liste pour stocker les predictions\n",
    "    y_hat = []\n",
    "    \n",
    "    for tweet in test_x:\n",
    "        # Obtenir la prédiction pour le tweet\n",
    "        y_pred = predict_tweet(tweet, freqs, theta)\n",
    "        \n",
    "        if y_pred > 0.5:\n",
    "            # Ajouter 1.0 à la fin de la liste\n",
    "            y_hat.append(float(1))\n",
    "        else:\n",
    "            # Ajouter 0 à la fin de la list\n",
    "            y_hat.append(float(0))\n",
    "    ### Code ici - Fin\n",
    "\n",
    "    # Avec l'implémentation ci-dessus, y_hat est une `list`, et test_y est un `array` de dimension (m,1)\n",
    "    # On convertit ici les deux en array uni-dimensionnels pour pouvoir les comparer avec l'opérateur '=='\n",
    "    accuracy = float(1/len(test_y))*np.sum(np.squeeze(np.asarray(y_hat))==np.squeeze(test_y))\n",
    "\n",
    "    \n",
    "    \n",
    "    return accuracy"
   ]
  },
  {
   "cell_type": "code",
   "execution_count": 25,
   "metadata": {},
   "outputs": [
    {
     "name": "stdout",
     "output_type": "stream",
     "text": [
      "La précision (accuracy) du modèle de Regression Logistique  = 0.9960\n"
     ]
    }
   ],
   "source": [
    "tmp_accuracy = test_logistic_regression(test_x, test_y, freqs, theta)\n",
    "print(f\"La précision (accuracy) du modèle de Regression Logistique  = {tmp_accuracy:.4f}\")"
   ]
  },
  {
   "cell_type": "markdown",
   "metadata": {},
   "source": [
    "#### Expected Output: \n",
    "```0.9950```  \n",
    "Super!"
   ]
  },
  {
   "cell_type": "code",
   "execution_count": 26,
   "metadata": {},
   "outputs": [
    {
     "data": {
      "image/png": "[encoded data removed]",
      "text/plain": [
       "<Figure size 640x480 with 1 Axes>"
      ]
     },
     "metadata": {},
     "output_type": "display_data"
    }
   ],
   "source": [
    "import seaborn as sns\n",
    "import matplotlib.pyplot as plt\n",
    "from sklearn.metrics import confusion_matrix\n",
    "\n",
    "# Liste pour stocker les predictions\n",
    "y_hat = []\n",
    "\n",
    "for tweet in test_x:\n",
    "    # Obtenir la prédiction pour le tweet\n",
    "    y_pred = predict_tweet(tweet, freqs, theta)\n",
    "    \n",
    "    if y_pred > 0.5:\n",
    "        # Ajouter 1.0 à la fin de la liste\n",
    "        y_hat.append(float(1))\n",
    "    else:\n",
    "        # Ajouter 0 à la fin de la list\n",
    "        y_hat.append(float(0))\n",
    "\n",
    "# Fonction pour visualiser la matrice de confusion\n",
    "def plot_confusion_matrix():\n",
    "    # Matrice de confusion pour la régression logistique\n",
    "    cm_logreg = confusion_matrix(test_y,y_hat)\n",
    "    \n",
    "    # Matrice de confusion pour la régression logistique\n",
    "    ax = sns.heatmap(cm_logreg, annot=True, fmt='d', cmap='Blues', cbar=False)\n",
    "    ax.set_title('Matrice de confusion - Régression Logistique')\n",
    "    ax.set_xlabel('Classe prédite')\n",
    "    ax.set_ylabel('Classe réelle')\n",
    "    ax.set_xticklabels(['Négatif', 'Positif'])\n",
    "    ax.set_yticklabels(['Négatif', 'Positif'])\n",
    "    \n",
    "plot_confusion_matrix()"
   ]
  },
  {
   "cell_type": "markdown",
   "metadata": {},
   "source": [
    "# Partie 5: Analyse des erreurs\n",
    "\n",
    "Dans cette partie, vous verrez quelques tweets que votre modèle a mal classés. \n",
    "\n",
    "**QUESTION**:\n",
    "\n",
    "- Quel type de tweets votre modèle classe-t-il incorrectement ?\n",
    "- Pourquoi pensez-vous que les mauvaises classifications se sont produites ? Plus précisément,"
   ]
  },
  {
   "cell_type": "code",
   "execution_count": 27,
   "metadata": {},
   "outputs": [
    {
     "name": "stdout",
     "output_type": "stream",
     "text": [
      "Label Predicted Tweet\n",
      "THE TWEET IS: off to the park to get some sunlight : )\n",
      "THE PROCESSED TWEET IS: ['park', 'get', 'sunlight']\n",
      "1\t0.49997887\tb'park get sunlight'\n",
      "THE TWEET IS: @msarosh Uff Itna Miss karhy thy ap :p\n",
      "THE PROCESSED TWEET IS: ['uff', 'itna', 'miss', 'karhi', 'thi', 'ap', ':p']\n",
      "1\t0.47351101\tb'uff itna miss karhi thi ap :p'\n",
      "THE TWEET IS: @phenomyoutube u probs had more fun with david than me : (\n",
      "THE PROCESSED TWEET IS: ['u', 'prob', 'fun', 'david']\n",
      "0\t0.50883101\tb'u prob fun david'\n",
      "THE TWEET IS: pats jay : (\n",
      "THE PROCESSED TWEET IS: ['pat', 'jay']\n",
      "0\t0.50083903\tb'pat jay'\n",
      "THE TWEET IS: @bae_ts WHATEVER STIL L YOUNG &gt;:-(\n",
      "THE PROCESSED TWEET IS: ['whatev', 'stil', 'l', 'young', '>:-(']\n",
      "0\t0.50025041\tb'whatev stil l young >:-('\n",
      "THE TWEET IS: my beloved grandmother : ( https://t.co/wt4oXq5xCf\n",
      "THE PROCESSED TWEET IS: ['belov', 'grandmoth']\n",
      "0\t0.50000007\tb'belov grandmoth'\n",
      "THE TWEET IS: @CHEDA_KHAN Thats life. I get calls from people I havent seen in 20 years and its always favours : (\n",
      "THE PROCESSED TWEET IS: ['that', 'life', 'get', 'call', 'peopl', 'havent', 'seen', '20', 'year', 'alway', 'favour']\n",
      "0\t0.50257627\tb'that life get call peopl havent seen 20 year alway favour'\n",
      "THE TWEET IS: @ITVCentral #Midlands Yes thanks for the depressing weather forecast, where the word 'rain' was mentioned several times :-(\n",
      "THE PROCESSED TWEET IS: ['midland', 'ye', 'thank', 'depress', 'weather', 'forecast', 'word', 'rain', 'mention', 'sever', 'time', ':-(']\n",
      "0\t0.52453042\tb'midland ye thank depress weather forecast word rain mention sever time :-('\n"
     ]
    },
    {
     "name": "stderr",
     "output_type": "stream",
     "text": [
      "/var/folders/xp/glrbnn6n3fj9h1_rpn0wgjzw0000gn/T/ipykernel_63482/3590713043.py:8: DeprecationWarning: Conversion of an array with ndim > 0 to a scalar is deprecated, and will error in future. Ensure you extract a single element from your array before performing this operation. (Deprecated NumPy 1.25.)\n",
      "  print('%d\\t%0.8f\\t%s' % (y, y_hat, ' '.join(process_tweet(x)).encode('ascii', 'ignore')))\n"
     ]
    }
   ],
   "source": [
    "print('Label Predicted Tweet')\n",
    "for x,y in zip(test_x,test_y):\n",
    "    y_hat = predict_tweet(x, freqs, theta)\n",
    "\n",
    "    if np.abs(y - (y_hat > 0.5)) > 0:\n",
    "        print('THE TWEET IS:', x)\n",
    "        print('THE PROCESSED TWEET IS:', process_tweet(x))\n",
    "        print('%d\\t%0.8f\\t%s' % (y, y_hat, ' '.join(process_tweet(x)).encode('ascii', 'ignore')))"
   ]
  },
  {
   "cell_type": "code",
   "execution_count": 28,
   "metadata": {},
   "outputs": [
    {
     "data": {
      "text/plain": [
       "[{'index': 753,\n",
       "  'tweet': 'off to the park to get some sunlight : )',\n",
       "  'processed_tweet': ['park', 'get', 'sunlight'],\n",
       "  'true_label': 1,\n",
       "  'predicted_prob': 0.49997886569331385,\n",
       "  'predicted_class': 0,\n",
       "  'distance_from_threshold': 2.113430668615468e-05,\n",
       "  'tweet_length': 3,\n",
       "  'has_emoji': False,\n",
       "  'positive_score': 166.0,\n",
       "  'negative_score': 187.0,\n",
       "  'score_difference': 21.0},\n",
       " {'index': 822,\n",
       "  'tweet': '@msarosh Uff Itna Miss karhy thy ap :p',\n",
       "  'processed_tweet': ['uff', 'itna', 'miss', 'karhi', 'thi', 'ap', ':p'],\n",
       "  'true_label': 1,\n",
       "  'predicted_prob': 0.47351101033468695,\n",
       "  'predicted_class': 0,\n",
       "  'distance_from_threshold': 0.026488989665313045,\n",
       "  'tweet_length': 7,\n",
       "  'has_emoji': False,\n",
       "  'positive_score': 121.0,\n",
       "  'negative_score': 243.0,\n",
       "  'score_difference': 122.0},\n",
       " {'index': 1298,\n",
       "  'tweet': '@phenomyoutube u probs had more fun with david than me : (',\n",
       "  'processed_tweet': ['u', 'prob', 'fun', 'david'],\n",
       "  'true_label': 0,\n",
       "  'predicted_prob': 0.5088310148088957,\n",
       "  'predicted_class': 1,\n",
       "  'distance_from_threshold': 0.008831014808895699,\n",
       "  'tweet_length': 4,\n",
       "  'has_emoji': False,\n",
       "  'positive_score': 187.0,\n",
       "  'negative_score': 175.0,\n",
       "  'score_difference': 12.0},\n",
       " {'index': 1544,\n",
       "  'tweet': 'pats jay : (',\n",
       "  'processed_tweet': ['pat', 'jay'],\n",
       "  'true_label': 0,\n",
       "  'predicted_prob': 0.5008390330476843,\n",
       "  'predicted_class': 1,\n",
       "  'distance_from_threshold': 0.00083903304768429,\n",
       "  'tweet_length': 2,\n",
       "  'has_emoji': False,\n",
       "  'positive_score': 3.0,\n",
       "  'negative_score': 0.0,\n",
       "  'score_difference': 3.0},\n",
       " {'index': 1569,\n",
       "  'tweet': '@bae_ts WHATEVER STIL L YOUNG &gt;:-(',\n",
       "  'processed_tweet': ['whatev', 'stil', 'l', 'young', '>:-('],\n",
       "  'true_label': 0,\n",
       "  'predicted_prob': 0.500250405518322,\n",
       "  'predicted_class': 1,\n",
       "  'distance_from_threshold': 0.0002504055183220055,\n",
       "  'tweet_length': 5,\n",
       "  'has_emoji': True,\n",
       "  'positive_score': 8.0,\n",
       "  'negative_score': 8.0,\n",
       "  'score_difference': 0.0},\n",
       " {'index': 1756,\n",
       "  'tweet': 'my beloved grandmother : ( https://t.co/wt4oXq5xCf',\n",
       "  'processed_tweet': ['belov', 'grandmoth'],\n",
       "  'true_label': 0,\n",
       "  'predicted_prob': 0.5000000732969241,\n",
       "  'predicted_class': 1,\n",
       "  'distance_from_threshold': 7.329692408575283e-08,\n",
       "  'tweet_length': 2,\n",
       "  'has_emoji': False,\n",
       "  'positive_score': 0.0,\n",
       "  'negative_score': 0.0,\n",
       "  'score_difference': 0.0},\n",
       " {'index': 1773,\n",
       "  'tweet': '@CHEDA_KHAN Thats life. I get calls from people I havent seen in 20 years and its always favours : (',\n",
       "  'processed_tweet': ['that',\n",
       "   'life',\n",
       "   'get',\n",
       "   'call',\n",
       "   'peopl',\n",
       "   'havent',\n",
       "   'seen',\n",
       "   '20',\n",
       "   'year',\n",
       "   'alway',\n",
       "   'favour'],\n",
       "  'true_label': 0,\n",
       "  'predicted_prob': 0.5025762725356203,\n",
       "  'predicted_class': 1,\n",
       "  'distance_from_threshold': 0.0025762725356203164,\n",
       "  'tweet_length': 11,\n",
       "  'has_emoji': False,\n",
       "  'positive_score': 376.0,\n",
       "  'negative_score': 413.0,\n",
       "  'score_difference': 37.0},\n",
       " {'index': 1873,\n",
       "  'tweet': \"@ITVCentral #Midlands Yes thanks for the depressing weather forecast, where the word 'rain' was mentioned several times :-(\",\n",
       "  'processed_tweet': ['midland',\n",
       "   'ye',\n",
       "   'thank',\n",
       "   'depress',\n",
       "   'weather',\n",
       "   'forecast',\n",
       "   'word',\n",
       "   'rain',\n",
       "   'mention',\n",
       "   'sever',\n",
       "   'time',\n",
       "   ':-('],\n",
       "  'true_label': 0,\n",
       "  'predicted_prob': 0.5245304229815567,\n",
       "  'predicted_class': 1,\n",
       "  'distance_from_threshold': 0.02453042298155672,\n",
       "  'tweet_length': 12,\n",
       "  'has_emoji': True,\n",
       "  'positive_score': 729.0,\n",
       "  'negative_score': 722.0,\n",
       "  'score_difference': 7.0}]"
      ]
     },
     "execution_count": 28,
     "metadata": {},
     "output_type": "execute_result"
    }
   ],
   "source": [
    "# Fonction pour analyser les tweets mal classifiés\n",
    "def analyze_misclassified_tweets(test_x, test_y, freqs, theta):\n",
    "    misclassified = []\n",
    "    probabilities = []\n",
    "    \n",
    "    for i, (x, y) in enumerate(zip(test_x, test_y)):\n",
    "        # Ensure y_hat is a NumPy array\n",
    "        y_hat = np.array(predict_tweet(x, freqs, theta))\n",
    "        y_hat_value = float(y_hat[0][0])\n",
    "        predicted_class = 1 if y_hat_value > 0.5 else 0\n",
    "        \n",
    "        # Collecter toutes les probabilités pour l'analyse de distribution\n",
    "        probabilities.append({\n",
    "            'index': i,\n",
    "            'tweet': x,\n",
    "            'true_label': int(y[0]),\n",
    "            'predicted_prob': y_hat_value,\n",
    "            'distance_from_threshold': abs(0.5 - y_hat_value)\n",
    "        })\n",
    "        \n",
    "        if predicted_class != y[0]:\n",
    "            processed_tweet = process_tweet(x)\n",
    "            misclassified.append({\n",
    "                'index': i,\n",
    "                'tweet': x,\n",
    "                'processed_tweet': processed_tweet,\n",
    "                'true_label': int(y[0]),\n",
    "                'predicted_prob': y_hat_value,\n",
    "                'predicted_class': predicted_class,\n",
    "                'distance_from_threshold': abs(0.5 - y_hat_value),\n",
    "                'tweet_length': len(processed_tweet),\n",
    "                'has_emoji': any(emoji in x for emoji in [':)', ':(', ':D', ':P', ':-)', ':-(', ';)', ';-)']),\n",
    "                'positive_score': float(extract_features(x, freqs)[0, 1]),\n",
    "                'negative_score': float(extract_features(x, freqs)[0, 2]),\n",
    "                'score_difference': abs(float(extract_features(x, freqs)[0, 1]) - float(extract_features(x, freqs)[0, 2]))\n",
    "            })\n",
    "    \n",
    "    return misclassified, probabilities\n",
    "\n",
    "# Analyser les tweets mal classifiés\n",
    "misclassified, probabilities = analyze_misclassified_tweets(test_x, test_y, freqs, theta)\n",
    "misclassified"
   ]
  },
  {
   "cell_type": "code",
   "execution_count": 29,
   "metadata": {},
   "outputs": [
    {
     "data": {
      "text/plain": [
       "{'total_misclassified': 8,\n",
       " 'false_positives': 6,\n",
       " 'false_negatives': 2,\n",
       " 'avg_distance_from_threshold': np.float64(0.00794216827012529),\n",
       " 'avg_tweet_length': np.float64(5.75),\n",
       " 'emoji_percentage': np.float64(25.0),\n",
       " 'common_words': [('get', 2),\n",
       "  ('park', 1),\n",
       "  ('sunlight', 1),\n",
       "  ('uff', 1),\n",
       "  ('itna', 1),\n",
       "  ('miss', 1),\n",
       "  ('karhi', 1),\n",
       "  ('thi', 1),\n",
       "  ('ap', 1),\n",
       "  (':p', 1),\n",
       "  ('u', 1),\n",
       "  ('prob', 1),\n",
       "  ('fun', 1),\n",
       "  ('david', 1),\n",
       "  ('pat', 1),\n",
       "  ('jay', 1),\n",
       "  ('whatev', 1),\n",
       "  ('stil', 1),\n",
       "  ('l', 1),\n",
       "  ('young', 1)],\n",
       " 'avg_positive_score': np.float64(198.75),\n",
       " 'avg_negative_score': np.float64(218.5),\n",
       " 'avg_score_difference': np.float64(25.25)}"
      ]
     },
     "execution_count": 29,
     "metadata": {},
     "output_type": "execute_result"
    }
   ],
   "source": [
    "# Fonction pour analyser les caractéristiques des tweets mal classifiés\n",
    "def analyze_misclassification_patterns(misclassified):\n",
    "    # Convertir en DataFrame pour faciliter l'analyse\n",
    "    df = pd.DataFrame(misclassified)\n",
    "\n",
    "    # Statistiques générales\n",
    "    total_misclassified = len(misclassified)\n",
    "    false_positives = df[df['true_label'] == 0].shape[0]\n",
    "    false_negatives = df[df['true_label'] == 1].shape[0]\n",
    "    \n",
    "    # Analyse des caractéristiques\n",
    "    avg_distance = df['distance_from_threshold'].mean()\n",
    "    avg_tweet_length = df['tweet_length'].mean()\n",
    "    emoji_percentage = df['has_emoji'].mean() * 100\n",
    "    \n",
    "    # Mots les plus fréquents dans les tweets mal classifiés\n",
    "    all_words = []\n",
    "    for tweet in df['processed_tweet']:\n",
    "        all_words.extend(tweet)\n",
    "    \n",
    "    word_freq = {}\n",
    "    for word in all_words:\n",
    "        if word in word_freq:\n",
    "            word_freq[word] += 1\n",
    "        else:\n",
    "            word_freq[word] = 1\n",
    "    \n",
    "    common_words = sorted(word_freq.items(), key=lambda x: x[1], reverse=True)[:20]\n",
    "    \n",
    "    # Analyse des scores\n",
    "    avg_pos_score = df['positive_score'].mean()\n",
    "    avg_neg_score = df['negative_score'].mean()\n",
    "    avg_score_diff = df['score_difference'].mean()\n",
    "    \n",
    "    # Résultats\n",
    "    results = {\n",
    "        'total_misclassified': total_misclassified,\n",
    "        'false_positives': false_positives,\n",
    "        'false_negatives': false_negatives,\n",
    "        'avg_distance_from_threshold': avg_distance,\n",
    "        'avg_tweet_length': avg_tweet_length,\n",
    "        'emoji_percentage': emoji_percentage,\n",
    "        'common_words': common_words,\n",
    "        'avg_positive_score': avg_pos_score,\n",
    "        'avg_negative_score': avg_neg_score,\n",
    "        'avg_score_difference': avg_score_diff\n",
    "    }\n",
    "    \n",
    "    return results, df\n",
    "\n",
    "# Analyser les motifs de mauvaise classification\n",
    "misclassification_results, misclassified_df = analyze_misclassification_patterns(misclassified)\n",
    "misclassification_results"
   ]
  },
  {
   "cell_type": "code",
   "execution_count": 30,
   "metadata": {},
   "outputs": [],
   "source": [
    "# Fonction pour analyser la distribution des probabilités\n",
    "def analyze_probability_distribution(probabilities):\n",
    "    df = pd.DataFrame(probabilities)\n",
    "    \n",
    "    # Séparer les tweets positifs et négatifs\n",
    "    pos_probs = df[df['true_label'] == 1]['predicted_prob']\n",
    "    neg_probs = df[df['true_label'] == 0]['predicted_prob']\n",
    "    \n",
    "    # Calculer les statistiques\n",
    "    pos_mean = pos_probs.mean()\n",
    "    #pos_median = pos_probs.median()\n",
    "    #pos_std = pos_probs.std()\n",
    "    \n",
    "    neg_mean = neg_probs.mean()\n",
    "    #neg_median = neg_probs.median()\n",
    "    #neg_std = neg_probs.std()\n",
    "    \n",
    "    # Calculer le nombre de tweets proches du seuil\n",
    "    close_threshold = 0.1  # Considérer les tweets avec une probabilité à ±0.1 du seuil\n",
    "    pos_close = pos_probs[(pos_probs > 0.5 - close_threshold) & (pos_probs < 0.5 + close_threshold)].count()\n",
    "    neg_close = neg_probs[(neg_probs > 0.5 - close_threshold) & (neg_probs < 0.5 + close_threshold)].count()\n",
    "    \n",
    "    # Pourcentage de tweets proches du seuil\n",
    "    pos_close_percent = (pos_close / len(pos_probs)) * 100\n",
    "    neg_close_percent = (neg_close / len(neg_probs)) * 100\n",
    "    \n",
    "    results = {\n",
    "        'positive_tweets': {\n",
    "            'count': len(pos_probs),\n",
    "            'mean_prob': pos_mean,\n",
    "            #'median_prob': pos_median,\n",
    "            #'std_dev': pos_std,\n",
    "            'close_to_threshold_count': pos_close,\n",
    "            'close_to_threshold_percent': pos_close_percent\n",
    "        },\n",
    "        'negative_tweets': {\n",
    "            'count': len(neg_probs),\n",
    "            'mean_prob': neg_mean,\n",
    "            #'median_prob': neg_median,\n",
    "            #'std_dev': neg_std,\n",
    "            'close_to_threshold_count': neg_close,\n",
    "            'close_to_threshold_percent': neg_close_percent\n",
    "        }\n",
    "    }\n",
    "    \n",
    "    return results, df\n",
    "\n",
    "# Analyser la distribution des probabilités\n",
    "probability_results, probability_df = analyze_probability_distribution(probabilities)\n",
    "    "
   ]
  },
  {
   "cell_type": "code",
   "execution_count": 31,
   "metadata": {},
   "outputs": [
    {
     "data": {
      "text/plain": [
       "{'positive_tweets': {'count': 1000,\n",
       "  'mean_prob': np.float64(0.8634593864397707),\n",
       "  'close_to_threshold_count': np.int64(60),\n",
       "  'close_to_threshold_percent': np.float64(6.0)},\n",
       " 'negative_tweets': {'count': 1000,\n",
       "  'mean_prob': np.float64(0.07091898921834003),\n",
       "  'close_to_threshold_count': np.int64(70),\n",
       "  'close_to_threshold_percent': np.float64(7.000000000000001)}}"
      ]
     },
     "execution_count": 31,
     "metadata": {},
     "output_type": "execute_result"
    }
   ],
   "source": [
    "probability_results"
   ]
  },
  {
   "cell_type": "code",
   "execution_count": 32,
   "metadata": {},
   "outputs": [
    {
     "data": {
      "text/plain": [
       "True"
      ]
     },
     "execution_count": 32,
     "metadata": {},
     "output_type": "execute_result"
    },
    {
     "data": {
      "image/png": "[encoded data removed]",
      "text/plain": [
       "<Figure size 1000x600 with 1 Axes>"
      ]
     },
     "metadata": {},
     "output_type": "display_data"
    },
    {
     "data": {
      "image/png": "[encoded data removed]",
      "text/plain": [
       "<Figure size 1000x600 with 1 Axes>"
      ]
     },
     "metadata": {},
     "output_type": "display_data"
    },
    {
     "data": {
      "image/png": "[encoded data removed]",
      "text/plain": [
       "<Figure size 1000x600 with 2 Axes>"
      ]
     },
     "metadata": {},
     "output_type": "display_data"
    }
   ],
   "source": [
    "import matplotlib.pyplot as plt\n",
    "\n",
    "# Fonction pour créer des visualisations\n",
    "def create_visualizations(probability_df, misclassified_df):\n",
    "   #os.makedirs('/home/ubuntu/analysis/figures', exist_ok=True)\n",
    "    \n",
    "    # Distribution des probabilités\n",
    "    plt.figure(figsize=(10, 6))\n",
    "    pos_probs = probability_df[probability_df['true_label'] == 1]['predicted_prob']\n",
    "    neg_probs = probability_df[probability_df['true_label'] == 0]['predicted_prob']\n",
    "    \n",
    "    plt.hist(pos_probs, bins=20, alpha=0.5, label='Tweets positifs')\n",
    "    plt.hist(neg_probs, bins=20, alpha=0.5, label='Tweets négatifs')\n",
    "    plt.axvline(x=0.5, color='r', linestyle='--', label='Seuil de classification')\n",
    "    plt.xlabel('Probabilité prédite')\n",
    "    plt.ylabel('Nombre de tweets')\n",
    "    plt.title('Distribution des probabilités prédites')\n",
    "    plt.legend()\n",
    "    #plt.savefig('/home/ubuntu/analysis/figures/probability_distribution.png')\n",
    "    \n",
    "    # Distance du seuil\n",
    "    plt.figure(figsize=(10, 6))\n",
    "    plt.hist(probability_df['distance_from_threshold'], bins=20)\n",
    "    plt.xlabel('Distance du seuil (0.5)')\n",
    "    plt.ylabel('Nombre de tweets')\n",
    "    plt.title('Distribution des distances du seuil de classification')\n",
    "    #plt.savefig('/home/ubuntu/analysis/figures/threshold_distance.png')\n",
    "    \n",
    "    # Tweets mal classifiés\n",
    "    if len(misclassified_df) > 0:\n",
    "        plt.figure(figsize=(10, 6))\n",
    "        plt.scatter(misclassified_df['positive_score'], misclassified_df['negative_score'], \n",
    "                   c=misclassified_df['true_label'], cmap='coolwarm', alpha=0.7)\n",
    "        plt.xlabel('Score positif')\n",
    "        plt.ylabel('Score négatif')\n",
    "        plt.title('Scores des tweets mal classifiés')\n",
    "        plt.colorbar(label='Étiquette réelle (1=positif, 0=négatif)')\n",
    "        #plt.savefig('/home/ubuntu/analysis/figures/misclassified_scores.png')\n",
    "    \n",
    "    return True\n",
    "\n",
    "# Créer des visualisations\n",
    "create_visualizations(probability_df, misclassified_df)\n",
    "    "
   ]
  },
  {
   "cell_type": "markdown",
   "metadata": {},
   "source": [
    "# Partie 6: Prediction avec votre propre tweet"
   ]
  },
  {
   "cell_type": "code",
   "execution_count": 33,
   "metadata": {},
   "outputs": [
    {
     "name": "stdout",
     "output_type": "stream",
     "text": [
      "['absolut', 'love', 'movi', 'entertain', 'great', 'cast']\n",
      "[[0.59554589]]\n",
      "Positive sentiment\n"
     ]
    }
   ],
   "source": [
    "# Changez le tweet pour tester\n",
    "my_tweet = 'Absolutely loved the movie! It was so entertaining and had a great cast.'\n",
    "\n",
    "print(process_tweet(my_tweet))\n",
    "y_hat = predict_tweet(my_tweet, freqs, theta)\n",
    "print(y_hat)\n",
    "if y_hat > 0.5:\n",
    "    print('Positive sentiment')\n",
    "else: \n",
    "    print('Negative sentiment')"
   ]
  }
 ],
 "metadata": {
  "coursera": {
   "schema_names": [
    "NLPC1-1"
   ]
  },
  "kernelspec": {
   "display_name": "Python 3",
   "language": "python",
   "name": "python3"
  },
  "language_info": {
   "codemirror_mode": {
    "name": "ipython",
    "version": 3
   },
   "file_extension": ".py",
   "mimetype": "text/x-python",
   "name": "python",
   "nbconvert_exporter": "python",
   "pygments_lexer": "ipython3",
   "version": "3.13.2"
  }
 },
 "nbformat": 4,
 "nbformat_minor": 2
}
